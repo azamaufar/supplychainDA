{
  "nbformat": 4,
  "nbformat_minor": 0,
  "metadata": {
    "colab": {
      "provenance": [],
      "mount_file_id": "1dtXoxJUWOLQ8JSISdckMo0E-oSDLJ-Ld",
      "authorship_tag": "ABX9TyM4MPZPK73cIOo+0It79zhW",
      "include_colab_link": true
    },
    "kernelspec": {
      "name": "python3",
      "display_name": "Python 3"
    },
    "language_info": {
      "name": "python"
    }
  },
  "cells": [
    {
      "cell_type": "markdown",
      "metadata": {
        "id": "view-in-github",
        "colab_type": "text"
      },
      "source": [
        "<a href=\"https://colab.research.google.com/github/azamaufar/supplychainDA/blob/main/EDA_Supply_Chain_Data.ipynb\" target=\"_parent\"><img src=\"https://colab.research.google.com/assets/colab-badge.svg\" alt=\"Open In Colab\"/></a>"
      ]
    },
    {
      "cell_type": "markdown",
      "source": [
        "There are many different analyses that can be performed to optimize a supply chain, depending on the specific goals and objectives of the business. Some of the most common analyses that are performed in supply chain management include:\n",
        "\n",
        "1. Inventory analysis: This analysis is used to optimize inventory levels to minimize costs while ensuring that the business has enough inventory to meet customer demand.\n",
        "\n",
        "2. Demand forecasting: This analysis involves using historical data and other variables to predict future demand for products. This can help businesses optimize production schedules, inventory levels, and transportation routes.\n",
        "\n",
        "3. Supply chain network design: This analysis involves designing an optimal supply chain network that minimizes transportation costs while ensuring timely delivery of goods.\n",
        "\n",
        "4. Cost-to-serve analysis: This analysis involves calculating the costs associated with serving different customers or regions to identify areas where costs can be minimized.\n",
        "\n",
        "5. Transportation analysis: This analysis involves optimizing transportation routes, modes, and carriers to minimize transportation costs while ensuring timely delivery of goods.\n",
        "\n",
        "6. Supplier analysis: This analysis involves evaluating the performance of suppliers based on factors such as quality, delivery times, and cost, to identify areas where improvements can be made.\n",
        "\n",
        "7. Risk management analysis: This analysis involves identifying potential risks to the supply chain, such as disruptions in transportation or production, and developing strategies to mitigate those risks.\n",
        "\n",
        "Overall, the specific analyses performed will depend on the goals and objectives of the business, as well as the nature of the supply chain. However, by performing these and other analyses, businesses can optimize their supply chains, reduce costs, and improve customer satisfaction."
      ],
      "metadata": {
        "id": "Oi3ht82f4zEX"
      }
    },
    {
      "cell_type": "markdown",
      "source": [
        "Based on the available data, you can still perform some analyses, including:\n",
        "\n",
        "1. Cost-to-serve analysis: You can calculate the cost of serving different customers or regions by analyzing the 'Sales' and 'Order Profit Per Order' columns. These columns can help you identify areas where costs can be minimized, such as by reducing shipping times or optimizing transportation routes.\n",
        "\n",
        "2. Inventory analysis: You can use the 'Sales' and 'Order Item Quantity' columns to analyze inventory levels and ensure that you have enough inventory to meet customer demand. By understanding the demand patterns, you can optimize production schedules and inventory levels.\n",
        "\n",
        "3. Supplier analysis: Although you may not have data specifically related to suppliers, you can use the 'Product Name' and 'Product Price' columns to evaluate the performance of different products. By analyzing product quality, pricing, and popularity, you can identify which products are most profitable and adjust your product mix accordingly.\n",
        "\n",
        "4. Demand forecasting: You can use historical data from the 'Sales' column to predict future demand for products. This can help you optimize production schedules, inventory levels, and transportation routes.\n",
        "\n",
        "5. Transportation analysis: You can analyze the 'Days for shipping (real)' and 'Days for shipment (scheduled)' columns to optimize transportation routes, modes, and carriers. By reducing transportation costs and improving delivery times, you can enhance customer satisfaction.\n",
        "\n",
        "Overall, while there may be some limitations due to the data available, you can still perform several analyses to optimize your supply chain and reduce costs."
      ],
      "metadata": {
        "id": "ZEzy1M0d5zX9"
      }
    },
    {
      "cell_type": "markdown",
      "source": [],
      "metadata": {
        "id": "v78KlxnXhbnW"
      }
    },
    {
      "cell_type": "markdown",
      "source": [
        "# Phase 1: Data Cleaning and Preparation\n",
        "In this phase, the data will be cleaned and prepared for analysis. The accuracy and completeness of the data will be verified, and the data will be formatted suitably for analysis."
      ],
      "metadata": {
        "id": "erOahKwJhcIB"
      }
    },
    {
      "cell_type": "markdown",
      "source": [
        "Import necessary library"
      ],
      "metadata": {
        "id": "HIRdcFnJhmzb"
      }
    },
    {
      "cell_type": "code",
      "execution_count": null,
      "metadata": {
        "id": "FaLxGiwGtw_J"
      },
      "outputs": [],
      "source": [
        "# import library\n",
        "import numpy as np\n",
        "import pandas as pd\n",
        "import matplotlib.pyplot as plt\n",
        "import seaborn as sns\n",
        "import datetime as dt\n",
        "from statistics import mode\n",
        "\n",
        "from IPython.display import Image\n",
        "sns.set(style=\"darkgrid\")"
      ]
    },
    {
      "cell_type": "code",
      "source": [
        "# Import dataset\n",
        "df=pd.read_excel('/content/drive/MyDrive/Supply Chain Dataset.xlsx', sheet_name=1)"
      ],
      "metadata": {
        "id": "lVmaCPO_uDup"
      },
      "execution_count": null,
      "outputs": []
    },
    {
      "cell_type": "code",
      "source": [
        "df.head()"
      ],
      "metadata": {
        "colab": {
          "base_uri": "https://localhost:8080/",
          "height": 421
        },
        "id": "L2stkdtWuNRD",
        "outputId": "3cc28273-6577-44bd-c6fa-f315d2659351"
      },
      "execution_count": null,
      "outputs": [
        {
          "output_type": "execute_result",
          "data": {
            "text/plain": [
              "       Type  Days for shipping (real)  Days for shipment (scheduled)  \\\n",
              "0     DEBIT                         3                              4   \n",
              "1  TRANSFER                         5                              4   \n",
              "2      CASH                         4                              4   \n",
              "3     DEBIT                         3                              4   \n",
              "4   PAYMENT                         2                              4   \n",
              "\n",
              "   Benefit per order  Sales per customer   Delivery Status  \\\n",
              "0          91.250000          314.640015  Advance shipping   \n",
              "1        -249.089996          311.359985     Late delivery   \n",
              "2        -247.779999          309.720001  Shipping on time   \n",
              "3          22.860001          304.809998  Advance shipping   \n",
              "4         134.210007          298.250000  Advance shipping   \n",
              "\n",
              "   Late_delivery_risk  Category Id   Category Name Customer City  ...  \\\n",
              "0                   0           73  Sporting Goods        Caguas  ...   \n",
              "1                   1           73  Sporting Goods        Caguas  ...   \n",
              "2                   0           73  Sporting Goods      San Jose  ...   \n",
              "3                   0           73  Sporting Goods   Los Angeles  ...   \n",
              "4                   0           73  Sporting Goods        Caguas  ...   \n",
              "\n",
              "  Order Zipcode Product Card Id Product Category Id  Product Description  \\\n",
              "0           NaN            1360                  73                  NaN   \n",
              "1           NaN            1360                  73                  NaN   \n",
              "2           NaN            1360                  73                  NaN   \n",
              "3           NaN            1360                  73                  NaN   \n",
              "4           NaN            1360                  73                  NaN   \n",
              "\n",
              "                                 Product Image Product Name Product Price  \\\n",
              "0  http://images.acmesports.sports/Smart+watch  Smart watch        327.75   \n",
              "1  http://images.acmesports.sports/Smart+watch  Smart watch        327.75   \n",
              "2  http://images.acmesports.sports/Smart+watch  Smart watch        327.75   \n",
              "3  http://images.acmesports.sports/Smart+watch  Smart watch        327.75   \n",
              "4  http://images.acmesports.sports/Smart+watch  Smart watch        327.75   \n",
              "\n",
              "  Product Status shipping date (DateOrders)   Shipping Mode  \n",
              "0              0        2018-02-03 22:56:00  Standard Class  \n",
              "1              0        2018-01-18 12:27:00  Standard Class  \n",
              "2              0        2018-01-17 12:06:00  Standard Class  \n",
              "3              0        2018-01-16 11:45:00  Standard Class  \n",
              "4              0        2018-01-15 11:24:00  Standard Class  \n",
              "\n",
              "[5 rows x 53 columns]"
            ],
            "text/html": [
              "\n",
              "  <div id=\"df-53335343-1432-46ba-bdcb-b6bde6b7449f\">\n",
              "    <div class=\"colab-df-container\">\n",
              "      <div>\n",
              "<style scoped>\n",
              "    .dataframe tbody tr th:only-of-type {\n",
              "        vertical-align: middle;\n",
              "    }\n",
              "\n",
              "    .dataframe tbody tr th {\n",
              "        vertical-align: top;\n",
              "    }\n",
              "\n",
              "    .dataframe thead th {\n",
              "        text-align: right;\n",
              "    }\n",
              "</style>\n",
              "<table border=\"1\" class=\"dataframe\">\n",
              "  <thead>\n",
              "    <tr style=\"text-align: right;\">\n",
              "      <th></th>\n",
              "      <th>Type</th>\n",
              "      <th>Days for shipping (real)</th>\n",
              "      <th>Days for shipment (scheduled)</th>\n",
              "      <th>Benefit per order</th>\n",
              "      <th>Sales per customer</th>\n",
              "      <th>Delivery Status</th>\n",
              "      <th>Late_delivery_risk</th>\n",
              "      <th>Category Id</th>\n",
              "      <th>Category Name</th>\n",
              "      <th>Customer City</th>\n",
              "      <th>...</th>\n",
              "      <th>Order Zipcode</th>\n",
              "      <th>Product Card Id</th>\n",
              "      <th>Product Category Id</th>\n",
              "      <th>Product Description</th>\n",
              "      <th>Product Image</th>\n",
              "      <th>Product Name</th>\n",
              "      <th>Product Price</th>\n",
              "      <th>Product Status</th>\n",
              "      <th>shipping date (DateOrders)</th>\n",
              "      <th>Shipping Mode</th>\n",
              "    </tr>\n",
              "  </thead>\n",
              "  <tbody>\n",
              "    <tr>\n",
              "      <th>0</th>\n",
              "      <td>DEBIT</td>\n",
              "      <td>3</td>\n",
              "      <td>4</td>\n",
              "      <td>91.250000</td>\n",
              "      <td>314.640015</td>\n",
              "      <td>Advance shipping</td>\n",
              "      <td>0</td>\n",
              "      <td>73</td>\n",
              "      <td>Sporting Goods</td>\n",
              "      <td>Caguas</td>\n",
              "      <td>...</td>\n",
              "      <td>NaN</td>\n",
              "      <td>1360</td>\n",
              "      <td>73</td>\n",
              "      <td>NaN</td>\n",
              "      <td>http://images.acmesports.sports/Smart+watch</td>\n",
              "      <td>Smart watch</td>\n",
              "      <td>327.75</td>\n",
              "      <td>0</td>\n",
              "      <td>2018-02-03 22:56:00</td>\n",
              "      <td>Standard Class</td>\n",
              "    </tr>\n",
              "    <tr>\n",
              "      <th>1</th>\n",
              "      <td>TRANSFER</td>\n",
              "      <td>5</td>\n",
              "      <td>4</td>\n",
              "      <td>-249.089996</td>\n",
              "      <td>311.359985</td>\n",
              "      <td>Late delivery</td>\n",
              "      <td>1</td>\n",
              "      <td>73</td>\n",
              "      <td>Sporting Goods</td>\n",
              "      <td>Caguas</td>\n",
              "      <td>...</td>\n",
              "      <td>NaN</td>\n",
              "      <td>1360</td>\n",
              "      <td>73</td>\n",
              "      <td>NaN</td>\n",
              "      <td>http://images.acmesports.sports/Smart+watch</td>\n",
              "      <td>Smart watch</td>\n",
              "      <td>327.75</td>\n",
              "      <td>0</td>\n",
              "      <td>2018-01-18 12:27:00</td>\n",
              "      <td>Standard Class</td>\n",
              "    </tr>\n",
              "    <tr>\n",
              "      <th>2</th>\n",
              "      <td>CASH</td>\n",
              "      <td>4</td>\n",
              "      <td>4</td>\n",
              "      <td>-247.779999</td>\n",
              "      <td>309.720001</td>\n",
              "      <td>Shipping on time</td>\n",
              "      <td>0</td>\n",
              "      <td>73</td>\n",
              "      <td>Sporting Goods</td>\n",
              "      <td>San Jose</td>\n",
              "      <td>...</td>\n",
              "      <td>NaN</td>\n",
              "      <td>1360</td>\n",
              "      <td>73</td>\n",
              "      <td>NaN</td>\n",
              "      <td>http://images.acmesports.sports/Smart+watch</td>\n",
              "      <td>Smart watch</td>\n",
              "      <td>327.75</td>\n",
              "      <td>0</td>\n",
              "      <td>2018-01-17 12:06:00</td>\n",
              "      <td>Standard Class</td>\n",
              "    </tr>\n",
              "    <tr>\n",
              "      <th>3</th>\n",
              "      <td>DEBIT</td>\n",
              "      <td>3</td>\n",
              "      <td>4</td>\n",
              "      <td>22.860001</td>\n",
              "      <td>304.809998</td>\n",
              "      <td>Advance shipping</td>\n",
              "      <td>0</td>\n",
              "      <td>73</td>\n",
              "      <td>Sporting Goods</td>\n",
              "      <td>Los Angeles</td>\n",
              "      <td>...</td>\n",
              "      <td>NaN</td>\n",
              "      <td>1360</td>\n",
              "      <td>73</td>\n",
              "      <td>NaN</td>\n",
              "      <td>http://images.acmesports.sports/Smart+watch</td>\n",
              "      <td>Smart watch</td>\n",
              "      <td>327.75</td>\n",
              "      <td>0</td>\n",
              "      <td>2018-01-16 11:45:00</td>\n",
              "      <td>Standard Class</td>\n",
              "    </tr>\n",
              "    <tr>\n",
              "      <th>4</th>\n",
              "      <td>PAYMENT</td>\n",
              "      <td>2</td>\n",
              "      <td>4</td>\n",
              "      <td>134.210007</td>\n",
              "      <td>298.250000</td>\n",
              "      <td>Advance shipping</td>\n",
              "      <td>0</td>\n",
              "      <td>73</td>\n",
              "      <td>Sporting Goods</td>\n",
              "      <td>Caguas</td>\n",
              "      <td>...</td>\n",
              "      <td>NaN</td>\n",
              "      <td>1360</td>\n",
              "      <td>73</td>\n",
              "      <td>NaN</td>\n",
              "      <td>http://images.acmesports.sports/Smart+watch</td>\n",
              "      <td>Smart watch</td>\n",
              "      <td>327.75</td>\n",
              "      <td>0</td>\n",
              "      <td>2018-01-15 11:24:00</td>\n",
              "      <td>Standard Class</td>\n",
              "    </tr>\n",
              "  </tbody>\n",
              "</table>\n",
              "<p>5 rows × 53 columns</p>\n",
              "</div>\n",
              "      <button class=\"colab-df-convert\" onclick=\"convertToInteractive('df-53335343-1432-46ba-bdcb-b6bde6b7449f')\"\n",
              "              title=\"Convert this dataframe to an interactive table.\"\n",
              "              style=\"display:none;\">\n",
              "        \n",
              "  <svg xmlns=\"http://www.w3.org/2000/svg\" height=\"24px\"viewBox=\"0 0 24 24\"\n",
              "       width=\"24px\">\n",
              "    <path d=\"M0 0h24v24H0V0z\" fill=\"none\"/>\n",
              "    <path d=\"M18.56 5.44l.94 2.06.94-2.06 2.06-.94-2.06-.94-.94-2.06-.94 2.06-2.06.94zm-11 1L8.5 8.5l.94-2.06 2.06-.94-2.06-.94L8.5 2.5l-.94 2.06-2.06.94zm10 10l.94 2.06.94-2.06 2.06-.94-2.06-.94-.94-2.06-.94 2.06-2.06.94z\"/><path d=\"M17.41 7.96l-1.37-1.37c-.4-.4-.92-.59-1.43-.59-.52 0-1.04.2-1.43.59L10.3 9.45l-7.72 7.72c-.78.78-.78 2.05 0 2.83L4 21.41c.39.39.9.59 1.41.59.51 0 1.02-.2 1.41-.59l7.78-7.78 2.81-2.81c.8-.78.8-2.07 0-2.86zM5.41 20L4 18.59l7.72-7.72 1.47 1.35L5.41 20z\"/>\n",
              "  </svg>\n",
              "      </button>\n",
              "      \n",
              "  <style>\n",
              "    .colab-df-container {\n",
              "      display:flex;\n",
              "      flex-wrap:wrap;\n",
              "      gap: 12px;\n",
              "    }\n",
              "\n",
              "    .colab-df-convert {\n",
              "      background-color: #E8F0FE;\n",
              "      border: none;\n",
              "      border-radius: 50%;\n",
              "      cursor: pointer;\n",
              "      display: none;\n",
              "      fill: #1967D2;\n",
              "      height: 32px;\n",
              "      padding: 0 0 0 0;\n",
              "      width: 32px;\n",
              "    }\n",
              "\n",
              "    .colab-df-convert:hover {\n",
              "      background-color: #E2EBFA;\n",
              "      box-shadow: 0px 1px 2px rgba(60, 64, 67, 0.3), 0px 1px 3px 1px rgba(60, 64, 67, 0.15);\n",
              "      fill: #174EA6;\n",
              "    }\n",
              "\n",
              "    [theme=dark] .colab-df-convert {\n",
              "      background-color: #3B4455;\n",
              "      fill: #D2E3FC;\n",
              "    }\n",
              "\n",
              "    [theme=dark] .colab-df-convert:hover {\n",
              "      background-color: #434B5C;\n",
              "      box-shadow: 0px 1px 3px 1px rgba(0, 0, 0, 0.15);\n",
              "      filter: drop-shadow(0px 1px 2px rgba(0, 0, 0, 0.3));\n",
              "      fill: #FFFFFF;\n",
              "    }\n",
              "  </style>\n",
              "\n",
              "      <script>\n",
              "        const buttonEl =\n",
              "          document.querySelector('#df-53335343-1432-46ba-bdcb-b6bde6b7449f button.colab-df-convert');\n",
              "        buttonEl.style.display =\n",
              "          google.colab.kernel.accessAllowed ? 'block' : 'none';\n",
              "\n",
              "        async function convertToInteractive(key) {\n",
              "          const element = document.querySelector('#df-53335343-1432-46ba-bdcb-b6bde6b7449f');\n",
              "          const dataTable =\n",
              "            await google.colab.kernel.invokeFunction('convertToInteractive',\n",
              "                                                     [key], {});\n",
              "          if (!dataTable) return;\n",
              "\n",
              "          const docLinkHtml = 'Like what you see? Visit the ' +\n",
              "            '<a target=\"_blank\" href=https://colab.research.google.com/notebooks/data_table.ipynb>data table notebook</a>'\n",
              "            + ' to learn more about interactive tables.';\n",
              "          element.innerHTML = '';\n",
              "          dataTable['output_type'] = 'display_data';\n",
              "          await google.colab.output.renderOutput(dataTable, element);\n",
              "          const docLink = document.createElement('div');\n",
              "          docLink.innerHTML = docLinkHtml;\n",
              "          element.appendChild(docLink);\n",
              "        }\n",
              "      </script>\n",
              "    </div>\n",
              "  </div>\n",
              "  "
            ]
          },
          "metadata": {},
          "execution_count": 3
        }
      ]
    },
    {
      "cell_type": "markdown",
      "source": [
        "Dataset Description"
      ],
      "metadata": {
        "id": "JBvFi4KghMgN"
      }
    },
    {
      "cell_type": "markdown",
      "source": [
        "|FIELDS| DESCRIPTION |\n",
        "|------|-------------|\n",
        "|Type|  Type of transaction made |\n",
        "|Days for shipping (real)|  Actual shipping days of the purchased product|\n",
        "|Days for shipment (scheduled)|  Days of scheduled delivery of the purchased product|\n",
        "|Benefit per order|  Earnings per order placed|\n",
        "|Sales per customer|  Total sales per customer made per customer|\n",
        "|Delivery Status|  Delivery status of orders: Advance shipping , Late delivery , Shipping canceled , Shipping on time\"|\n",
        "|Late_delivery_risk|  Categorical variable that indicates if sending is late (1), it is not late (0).\"|\n",
        "|Category Id|  Product category code|\n",
        "|Category Name|  Description of the product category|\n",
        "|Customer City|  City where the customer made the purchase|\n",
        "|Customer Country|  Country where the customer made the purchase|\n",
        "|Customer Email|  Customer's email|\n",
        "|Customer Fname|  Customer name|\n",
        "|Customer Id|  Customer ID|\n",
        "|Customer Lname|  Customer lastname|\n",
        "|Customer Password|  Masked customer key|\n",
        "|Customer Segment|  Types of Customers: Consumer , Corporate , Home Office\"|\n",
        "|Customer State|  State to which the store where the purchase is registered belongs|\n",
        "|Customer Street|  Street to which the store where the purchase is registered belongs|\n",
        "|Customer Zipcode|  Customer Zipcode|\n",
        "|Department Id|  Department code of store|\n",
        "|Department Name|  Department name of store|\n",
        "|Latitude|  Latitude corresponding to location of store|\n",
        "|Longitude|  Longitude corresponding to location of store|\n",
        "|Market|  Market to where the order is delivered : Africa , Europe , LATAM , Pacific Asia , USCA\"|\n",
        "|Order City|  Destination city of the order|\n",
        "|Order Country|  Destination country of the order|\n",
        "|Order Customer Id|  Customer order code|\n",
        "|order date (DateOrders)|  Date on which the order is made|\n",
        "|Order Id|  Order code|\n",
        "|Order Item Cardprod Id|  Product code generated through the RFID reader|\n",
        "|Order Item Discount|  Order item discount value|\n",
        "|Order Item Discount Rate|  Order item discount percentage|\n",
        "|Order Item Id|  Order item code|\n",
        "|Order Item Product Price|  Price of products without discount|\n",
        "|Order Item Profit Ratio|  Order Item Profit Ratio|\n",
        "|Order Item Quantity|  Number of products per order|\n",
        "|Sales|  Value in sales|\n",
        "|Order Item Total|  Total amount per order|\n",
        "|Order Profit Per Order|  Order Profit Per Order|\n",
        "|Order Region|  Region of the world where the order is delivered :  Southeast Asia ,South Asia ,Oceania ,Eastern Asia, West Asia , West of USA , US Center , West Africa, Central Africa ,North Africa ,Western Europe ,Northern , Caribbean , South America ,East Africa ,Southern Europe , East of USA ,Canada ,Southern Africa , Central Asia ,  Europe , Central America, Eastern Europe , South of  USA \"|\n",
        "|Order State|  State of the region where the order is delivered|\n",
        "|Order Status|  Order Status : COMPLETE , PENDING , CLOSED , PENDING_PAYMENT ,CANCELED , PROCESSING ,SUSPECTED_FRAUD ,ON_HOLD ,PAYMENT_REVIEW\"|\n",
        "|Product Card Id|  Product code|\n",
        "|Product Category Id|  Product category code|\n",
        "|Product Description|  Product Description|\n",
        "|Product Image|  Link of visit and purchase of the product|\n",
        "|Product Name|  Product Name|\n",
        "|Product Price|  Product Price|\n",
        "|Product Status|  Status of the product stock :If it is 1 not available , 0 the product is available \"|\n",
        "|Shipping date (DateOrders)|  Exact date and time of shipment|\n",
        "|Shipping Mode|  The following shipping modes are presented : Standard Class , First Class , Second Class , Same Day\"|\n"
      ],
      "metadata": {
        "id": "5nI7d9NSeQqE"
      }
    },
    {
      "cell_type": "code",
      "source": [
        "# information of dataset\n",
        "df.info()"
      ],
      "metadata": {
        "colab": {
          "base_uri": "https://localhost:8080/"
        },
        "id": "iJpyCv0HhU5X",
        "outputId": "f1ebd404-52c6-4351-8035-9a333808af70"
      },
      "execution_count": null,
      "outputs": [
        {
          "output_type": "stream",
          "name": "stdout",
          "text": [
            "<class 'pandas.core.frame.DataFrame'>\n",
            "RangeIndex: 180519 entries, 0 to 180518\n",
            "Data columns (total 53 columns):\n",
            " #   Column                         Non-Null Count   Dtype         \n",
            "---  ------                         --------------   -----         \n",
            " 0   Type                           180519 non-null  object        \n",
            " 1   Days for shipping (real)       180519 non-null  int64         \n",
            " 2   Days for shipment (scheduled)  180519 non-null  int64         \n",
            " 3   Benefit per order              180519 non-null  float64       \n",
            " 4   Sales per customer             180519 non-null  float64       \n",
            " 5   Delivery Status                180519 non-null  object        \n",
            " 6   Late_delivery_risk             180519 non-null  int64         \n",
            " 7   Category Id                    180519 non-null  int64         \n",
            " 8   Category Name                  180519 non-null  object        \n",
            " 9   Customer City                  180519 non-null  object        \n",
            " 10  Customer Country               180519 non-null  object        \n",
            " 11  Customer Email                 180519 non-null  object        \n",
            " 12  Customer Fname                 180519 non-null  object        \n",
            " 13  Customer Id                    180519 non-null  int64         \n",
            " 14  Customer Lname                 180511 non-null  object        \n",
            " 15  Customer Password              180519 non-null  object        \n",
            " 16  Customer Segment               180519 non-null  object        \n",
            " 17  Customer State                 180519 non-null  object        \n",
            " 18  Customer Street                180519 non-null  object        \n",
            " 19  Customer Zipcode               180516 non-null  float64       \n",
            " 20  Department Id                  180519 non-null  int64         \n",
            " 21  Department Name                180519 non-null  object        \n",
            " 22  Latitude                       180519 non-null  float64       \n",
            " 23  Longitude                      180519 non-null  float64       \n",
            " 24  Market                         180519 non-null  object        \n",
            " 25  Order City                     180519 non-null  object        \n",
            " 26  Order Country                  180519 non-null  object        \n",
            " 27  Order Customer Id              180519 non-null  int64         \n",
            " 28  order date (DateOrders)        180519 non-null  datetime64[ns]\n",
            " 29  Order Id                       180519 non-null  int64         \n",
            " 30  Order Item Cardprod Id         180519 non-null  int64         \n",
            " 31  Order Item Discount            180519 non-null  float64       \n",
            " 32  Order Item Discount Rate       180519 non-null  float64       \n",
            " 33  Order Item Id                  180519 non-null  int64         \n",
            " 34  Order Item Product Price       180519 non-null  float64       \n",
            " 35  Order Item Profit Ratio        180519 non-null  float64       \n",
            " 36  Order Item Quantity            180519 non-null  int64         \n",
            " 37  Sales                          180519 non-null  float64       \n",
            " 38  Order Item Total               180519 non-null  float64       \n",
            " 39  Order Profit Per Order         180519 non-null  float64       \n",
            " 40  Order Region                   180519 non-null  object        \n",
            " 41  Order State                    180519 non-null  object        \n",
            " 42  Order Status                   180519 non-null  object        \n",
            " 43  Order Zipcode                  24840 non-null   float64       \n",
            " 44  Product Card Id                180519 non-null  int64         \n",
            " 45  Product Category Id            180519 non-null  int64         \n",
            " 46  Product Description            0 non-null       float64       \n",
            " 47  Product Image                  180519 non-null  object        \n",
            " 48  Product Name                   180519 non-null  object        \n",
            " 49  Product Price                  180519 non-null  float64       \n",
            " 50  Product Status                 180519 non-null  int64         \n",
            " 51  shipping date (DateOrders)     180519 non-null  datetime64[ns]\n",
            " 52  Shipping Mode                  180519 non-null  object        \n",
            "dtypes: datetime64[ns](2), float64(15), int64(14), object(22)\n",
            "memory usage: 73.0+ MB\n"
          ]
        }
      ]
    },
    {
      "cell_type": "code",
      "source": [
        "df.info(verbose=False, memory_usage=\"deep\")"
      ],
      "metadata": {
        "colab": {
          "base_uri": "https://localhost:8080/"
        },
        "id": "HX9h92Qnd4BL",
        "outputId": "0426a70c-5979-4b2d-fe49-9bbad89716b5"
      },
      "execution_count": null,
      "outputs": [
        {
          "output_type": "stream",
          "name": "stdout",
          "text": [
            "<class 'pandas.core.frame.DataFrame'>\n",
            "RangeIndex: 180519 entries, 0 to 180518\n",
            "Columns: 53 entries, Type to Shipping Mode\n",
            "dtypes: datetime64[ns](2), float64(15), int64(14), object(22)\n",
            "memory usage: 310.8 MB\n"
          ]
        }
      ]
    },
    {
      "cell_type": "code",
      "source": [
        "df['Order Country'].unique()"
      ],
      "metadata": {
        "id": "D2DskqHC1E4E",
        "colab": {
          "base_uri": "https://localhost:8080/"
        },
        "outputId": "fe05856d-ca57-4cd6-c09a-964249105750"
      },
      "execution_count": null,
      "outputs": [
        {
          "output_type": "execute_result",
          "data": {
            "text/plain": [
              "array(['Indonesia', 'India', 'Australia', 'China', 'Japón',\n",
              "       'Corea del Sur', 'Singapur', 'Turquía', 'Mongolia',\n",
              "       'Estados Unidos', 'Nigeria', 'República Democrática del Congo',\n",
              "       'Senegal', 'Marruecos', 'Alemania', 'Francia', 'Países Bajos',\n",
              "       'Reino Unido', 'Guatemala', 'El Salvador', 'Panamá',\n",
              "       'República Dominicana', 'Venezuela', 'Colombia', 'Honduras',\n",
              "       'Brasil', 'México', 'Uruguay', 'Argentina', 'Cuba', 'Perú',\n",
              "       'Nicaragua', 'Ecuador', 'Angola', 'Sudán', 'Somalia',\n",
              "       'Costa de Marfil', 'Egipto', 'Italia', 'España', 'Suecia',\n",
              "       'Austria', 'Canada', 'Madagascar', 'Argelia', 'Liberia', 'Zambia',\n",
              "       'Níger', 'SudAfrica', 'Mozambique', 'Tanzania', 'Ruanda', 'Israel',\n",
              "       'Nueva Zelanda', 'Bangladés', 'Tailandia', 'Irak', 'Arabia Saudí',\n",
              "       'Filipinas', 'Kazajistán', 'Irán', 'Myanmar (Birmania)',\n",
              "       'Uzbekistán', 'Benín', 'Camerún', 'Kenia', 'Togo', 'Ucrania',\n",
              "       'Polonia', 'Portugal', 'Rumania', 'Trinidad y Tobago',\n",
              "       'Afganistán', 'Pakistán', 'Vietnam', 'Malasia', 'Finlandia',\n",
              "       'Rusia', 'Irlanda', 'Noruega', 'Eslovaquia', 'Bélgica', 'Bolivia',\n",
              "       'Chile', 'Jamaica', 'Yemen', 'Ghana', 'Guinea', 'Etiopía',\n",
              "       'Bulgaria', 'Kirguistán', 'Georgia', 'Nepal',\n",
              "       'Emiratos Árabes Unidos', 'Camboya', 'Uganda', 'Lesoto',\n",
              "       'Lituania', 'Suiza', 'Hungría', 'Dinamarca', 'Haití',\n",
              "       'Bielorrusia', 'Croacia', 'Laos', 'Baréin', 'Macedonia',\n",
              "       'República Checa', 'Sri Lanka', 'Zimbabue', 'Eritrea',\n",
              "       'Burkina Faso', 'Costa Rica', 'Libia', 'Barbados', 'Tayikistán',\n",
              "       'Siria', 'Guadalupe', 'Papúa Nueva Guinea', 'Azerbaiyán',\n",
              "       'Turkmenistán', 'Paraguay', 'Jordania', 'Hong Kong', 'Martinica',\n",
              "       'Moldavia', 'Qatar', 'Mali', 'Albania', 'República del Congo',\n",
              "       'Bosnia y Herzegovina', 'Omán', 'Túnez', 'Sierra Leona', 'Yibuti',\n",
              "       'Burundi', 'Montenegro', 'Gabón', 'Sudán del Sur', 'Luxemburgo',\n",
              "       'Namibia', 'Mauritania', 'Grecia', 'Suazilandia', 'Guyana',\n",
              "       'Guayana Francesa', 'República Centroafricana', 'Taiwán',\n",
              "       'Estonia', 'Líbano', 'Chipre', 'Guinea-Bissau', 'Surinam',\n",
              "       'Belice', 'Eslovenia', 'República de Gambia', 'Botsuana',\n",
              "       'Armenia', 'Guinea Ecuatorial', 'Kuwait', 'Bután', 'Chad',\n",
              "       'Serbia', 'Sáhara Occidental'], dtype=object)"
            ]
          },
          "metadata": {},
          "execution_count": 31
        }
      ]
    },
    {
      "cell_type": "markdown",
      "source": [
        "we'll translate countries name from esp to eng"
      ],
      "metadata": {
        "id": "uOmV1B5s4yAR"
      }
    },
    {
      "cell_type": "code",
      "source": [
        "countries_esp = ['Indonesia', 'India', 'Australia', 'China', 'Japón',\n",
        "       'Corea del Sur', 'Singapur', 'Turquía', 'Mongolia',\n",
        "       'Estados Unidos', 'Nigeria', 'República Democrática del Congo',\n",
        "       'Senegal', 'Marruecos', 'Alemania', 'Francia', 'Países Bajos',\n",
        "       'Reino Unido', 'Guatemala', 'El Salvador', 'Panamá',\n",
        "       'República Dominicana', 'Venezuela', 'Colombia', 'Honduras',\n",
        "       'Brasil', 'México', 'Uruguay', 'Argentina', 'Cuba', 'Perú',\n",
        "       'Nicaragua', 'Ecuador', 'Angola', 'Sudán', 'Somalia',\n",
        "       'Costa de Marfil', 'Egipto', 'Italia', 'España', 'Suecia',\n",
        "       'Austria', 'Canada', 'Madagascar', 'Argelia', 'Liberia', 'Zambia',\n",
        "       'Níger', 'SudAfrica', 'Mozambique', 'Tanzania', 'Ruanda', 'Israel',\n",
        "       'Nueva Zelanda', 'Bangladés', 'Tailandia', 'Irak', 'Arabia Saudí',\n",
        "       'Filipinas', 'Kazajistán', 'Irán', 'Myanmar (Birmania)',\n",
        "       'Uzbekistán', 'Benín', 'Camerún', 'Kenia', 'Togo', 'Ucrania',\n",
        "       'Polonia', 'Portugal', 'Rumania', 'Trinidad y Tobago',\n",
        "       'Afganistán', 'Pakistán', 'Vietnam', 'Malasia', 'Finlandia',\n",
        "       'Rusia', 'Irlanda', 'Noruega', 'Eslovaquia', 'Bélgica', 'Bolivia',\n",
        "       'Chile', 'Jamaica', 'Yemen', 'Ghana', 'Guinea', 'Etiopía',\n",
        "       'Bulgaria', 'Kirguistán', 'Georgia', 'Nepal',\n",
        "       'Emiratos Árabes Unidos', 'Camboya', 'Uganda', 'Lesoto',\n",
        "       'Lituania', 'Suiza', 'Hungría', 'Dinamarca', 'Haití',\n",
        "       'Bielorrusia', 'Croacia', 'Laos', 'Baréin', 'Macedonia',\n",
        "       'República Checa', 'Sri Lanka', 'Zimbabue', 'Eritrea',\n",
        "       'Burkina Faso', 'Costa Rica', 'Libia', 'Barbados', 'Tayikistán',\n",
        "       'Siria', 'Guadalupe', 'Papúa Nueva Guinea', 'Azerbaiyán',\n",
        "       'Turkmenistán', 'Paraguay', 'Jordania', 'Hong Kong', 'Martinica',\n",
        "       'Moldavia', 'Qatar', 'Mali', 'Albania', 'República del Congo',\n",
        "       'Bosnia y Herzegovina', 'Omán', 'Túnez', 'Sierra Leona', 'Yibuti',\n",
        "       'Burundi', 'Montenegro', 'Gabón', 'Sudán del Sur', 'Luxemburgo',\n",
        "       'Namibia', 'Mauritania', 'Grecia', 'Suazilandia', 'Guyana',\n",
        "       'Guayana Francesa', 'República Centroafricana', 'Taiwán',\n",
        "       'Estonia', 'Líbano', 'Chipre', 'Guinea-Bissau', 'Surinam',\n",
        "       'Belice', 'Eslovenia', 'República de Gambia', 'Botsuana',\n",
        "       'Armenia', 'Guinea Ecuatorial', 'Kuwait', 'Bután', 'Chad',\n",
        "       'Serbia', 'Sáhara Occidental']"
      ],
      "metadata": {
        "id": "AAa7EOBi4ggn"
      },
      "execution_count": null,
      "outputs": []
    },
    {
      "cell_type": "code",
      "source": [
        "countries_en = ['Indonesia', 'India', 'Australia', 'China', 'Japan',\n",
        "       'South Korea', 'Singapore', 'Turkey', 'Mongolia',\n",
        "       'United States', 'Nigeria', 'Democratic Republic of the Congo',\n",
        "       'Senegal', 'Morocco', 'Germany', 'France', 'Netherlands',\n",
        "       'United Kingdom', 'Guatemala', 'El Salvador', 'Panama',\n",
        "       'Dominican Republic', 'Venezuela', 'Colombia', 'Honduras',\n",
        "       'Brazil', 'Mexico', 'Uruguay', 'Argentina', 'Cuba', 'Peru',\n",
        "       'Nicaragua', 'Ecuador', 'Angola', 'Sudan', 'Somalia',\n",
        "       'Ivory Coast', 'Egypt', 'Italy', 'Spain', 'Sweden',\n",
        "       'Austria', 'Canada', 'Madagascar', 'Algeria', 'Liberia', 'Zambia',\n",
        "       'Niger', 'South Africa', 'Mozambique', 'Tanzania', 'Rwanda', 'Israel',\n",
        "       'New Zealand', 'Bangladesh', 'Thailand', 'Iraq', 'Saudi Arabia',\n",
        "       'Philippines', 'Kazakhstan', 'Iran', 'Myanmar (Burma)',\n",
        "       'Uzbekistan', 'Benin', 'Cameroon', 'Kenya', 'Togo', 'Ukraine',\n",
        "       'Poland', 'Portugal', 'Romania', 'Trinidad and Tobago',\n",
        "       'Afghanistan', 'Pakistan', 'Vietnam', 'Malaysia', 'Finland',\n",
        "       'Russia', 'Ireland', 'Norway', 'Slovakia', 'Belgium', 'Bolivia',\n",
        "       'Chile', 'Jamaica', 'Yemen', 'Ghana', 'Guinea', 'Ethiopia',\n",
        "       'Bulgaria', 'Kyrgyzstan', 'Georgia', 'Nepal',\n",
        "       'United Arab Emirates', 'Cambodia', 'Uganda', 'Lesotho',\n",
        "       'Lithuania', 'Switzerland', 'Hungary', 'Denmark', 'Haiti',\n",
        "       'Belarus', 'Croatia', 'Laos', 'Bahrain', 'Macedonia',\n",
        "       'Czech Republic', 'Sri Lanka', 'Zimbabwe', 'Eritrea',\n",
        "       'Burkina Faso', 'Costa Rica', 'Libya', 'Barbados', 'Tajikistan',\n",
        "       'Syria', 'Guadeloupe', 'Papua New Guinea', 'Azerbaijan',\n",
        "       'Turkmenistan', 'Paraguay', 'Jordan', 'Hong Kong', 'Martinique',\n",
        "       'Moldova', 'Qatar', 'Mali', 'Albania', 'Republic of the Congo',\n",
        "       'Bosnia and Herzegovina', 'Oman', 'Tunisia', 'Sierra Leone', 'Djibouti',\n",
        "       'Burundi', 'Montenegro', 'Gabon', 'South Sudan', 'Luxembourg',\n",
        "       'Namibia', 'Mauritania', 'Greece', 'Swaziland', 'Guyana',\n",
        "       'French Guiana', 'Central African Republic', 'Taiwan',\n",
        "       'Estonia', 'Lebanon', 'Cyprus', 'Guinea-Bissau', 'Suriname',\n",
        "       'Belize', 'Slovenia', 'Republic of The Gambia', 'Botswana',\n",
        "       'Armenia', 'Equatorial Guinea', 'Kuwait', 'Bhutan', 'Chad',\n",
        "       'Serbia', 'Western Sahara']"
      ],
      "metadata": {
        "id": "KJk2PVFgyjB0"
      },
      "execution_count": null,
      "outputs": []
    },
    {
      "cell_type": "code",
      "source": [
        "countries_dict = {}\n",
        "for i in range(len(countries_esp)):\n",
        "    countries_dict[countries_esp[i]] = countries_en[i]\n",
        "\n",
        "print(countries_dict)"
      ],
      "metadata": {
        "colab": {
          "base_uri": "https://localhost:8080/"
        },
        "id": "tBURhrAUyqoT",
        "outputId": "09585278-0ef0-45f9-fefc-7ead9bbb3221"
      },
      "execution_count": null,
      "outputs": [
        {
          "output_type": "stream",
          "name": "stdout",
          "text": [
            "{'Indonesia': 'Indonesia', 'India': 'India', 'Australia': 'Australia', 'China': 'China', 'Japón': 'Japan', 'Corea del Sur': 'South Korea', 'Singapur': 'Singapore', 'Turquía': 'Turkey', 'Mongolia': 'Mongolia', 'Estados Unidos': 'United States', 'Nigeria': 'Nigeria', 'República Democrática del Congo': 'Democratic Republic of the Congo', 'Senegal': 'Senegal', 'Marruecos': 'Morocco', 'Alemania': 'Germany', 'Francia': 'France', 'Países Bajos': 'Netherlands', 'Reino Unido': 'United Kingdom', 'Guatemala': 'Guatemala', 'El Salvador': 'El Salvador', 'Panamá': 'Panama', 'República Dominicana': 'Dominican Republic', 'Venezuela': 'Venezuela', 'Colombia': 'Colombia', 'Honduras': 'Honduras', 'Brasil': 'Brazil', 'México': 'Mexico', 'Uruguay': 'Uruguay', 'Argentina': 'Argentina', 'Cuba': 'Cuba', 'Perú': 'Peru', 'Nicaragua': 'Nicaragua', 'Ecuador': 'Ecuador', 'Angola': 'Angola', 'Sudán': 'Sudan', 'Somalia': 'Somalia', 'Costa de Marfil': 'Ivory Coast', 'Egipto': 'Egypt', 'Italia': 'Italy', 'España': 'Spain', 'Suecia': 'Sweden', 'Austria': 'Austria', 'Canada': 'Canada', 'Madagascar': 'Madagascar', 'Argelia': 'Algeria', 'Liberia': 'Liberia', 'Zambia': 'Zambia', 'Níger': 'Niger', 'SudAfrica': 'South Africa', 'Mozambique': 'Mozambique', 'Tanzania': 'Tanzania', 'Ruanda': 'Rwanda', 'Israel': 'Israel', 'Nueva Zelanda': 'New Zealand', 'Bangladés': 'Bangladesh', 'Tailandia': 'Thailand', 'Irak': 'Iraq', 'Arabia Saudí': 'Saudi Arabia', 'Filipinas': 'Philippines', 'Kazajistán': 'Kazakhstan', 'Irán': 'Iran', 'Myanmar (Birmania)': 'Myanmar (Burma)', 'Uzbekistán': 'Uzbekistan', 'Benín': 'Benin', 'Camerún': 'Cameroon', 'Kenia': 'Kenya', 'Togo': 'Togo', 'Ucrania': 'Ukraine', 'Polonia': 'Poland', 'Portugal': 'Portugal', 'Rumania': 'Romania', 'Trinidad y Tobago': 'Trinidad and Tobago', 'Afganistán': 'Afghanistan', 'Pakistán': 'Pakistan', 'Vietnam': 'Vietnam', 'Malasia': 'Malaysia', 'Finlandia': 'Finland', 'Rusia': 'Russia', 'Irlanda': 'Ireland', 'Noruega': 'Norway', 'Eslovaquia': 'Slovakia', 'Bélgica': 'Belgium', 'Bolivia': 'Bolivia', 'Chile': 'Chile', 'Jamaica': 'Jamaica', 'Yemen': 'Yemen', 'Ghana': 'Ghana', 'Guinea': 'Guinea', 'Etiopía': 'Ethiopia', 'Bulgaria': 'Bulgaria', 'Kirguistán': 'Kyrgyzstan', 'Georgia': 'Georgia', 'Nepal': 'Nepal', 'Emiratos Árabes Unidos': 'United Arab Emirates', 'Camboya': 'Cambodia', 'Uganda': 'Uganda', 'Lesoto': 'Lesotho', 'Lituania': 'Lithuania', 'Suiza': 'Switzerland', 'Hungría': 'Hungary', 'Dinamarca': 'Denmark', 'Haití': 'Haiti', 'Bielorrusia': 'Belarus', 'Croacia': 'Croatia', 'Laos': 'Laos', 'Baréin': 'Bahrain', 'Macedonia': 'Macedonia', 'República Checa': 'Czech Republic', 'Sri Lanka': 'Sri Lanka', 'Zimbabue': 'Zimbabwe', 'Eritrea': 'Eritrea', 'Burkina Faso': 'Burkina Faso', 'Costa Rica': 'Costa Rica', 'Libia': 'Libya', 'Barbados': 'Barbados', 'Tayikistán': 'Tajikistan', 'Siria': 'Syria', 'Guadalupe': 'Guadeloupe', 'Papúa Nueva Guinea': 'Papua New Guinea', 'Azerbaiyán': 'Azerbaijan', 'Turkmenistán': 'Turkmenistan', 'Paraguay': 'Paraguay', 'Jordania': 'Jordan', 'Hong Kong': 'Hong Kong', 'Martinica': 'Martinique', 'Moldavia': 'Moldova', 'Qatar': 'Qatar', 'Mali': 'Mali', 'Albania': 'Albania', 'República del Congo': 'Republic of the Congo', 'Bosnia y Herzegovina': 'Bosnia and Herzegovina', 'Omán': 'Oman', 'Túnez': 'Tunisia', 'Sierra Leona': 'Sierra Leone', 'Yibuti': 'Djibouti', 'Burundi': 'Burundi', 'Montenegro': 'Montenegro', 'Gabón': 'Gabon', 'Sudán del Sur': 'South Sudan', 'Luxemburgo': 'Luxembourg', 'Namibia': 'Namibia', 'Mauritania': 'Mauritania', 'Grecia': 'Greece', 'Suazilandia': 'Swaziland', 'Guyana': 'Guyana', 'Guayana Francesa': 'French Guiana', 'República Centroafricana': 'Central African Republic', 'Taiwán': 'Taiwan', 'Estonia': 'Estonia', 'Líbano': 'Lebanon', 'Chipre': 'Cyprus', 'Guinea-Bissau': 'Guinea-Bissau', 'Surinam': 'Suriname', 'Belice': 'Belize', 'Eslovenia': 'Slovenia', 'República de Gambia': 'Republic of The Gambia', 'Botsuana': 'Botswana', 'Armenia': 'Armenia', 'Guinea Ecuatorial': 'Equatorial Guinea', 'Kuwait': 'Kuwait', 'Bután': 'Bhutan', 'Chad': 'Chad', 'Serbia': 'Serbia', 'Sáhara Occidental': 'Western Sahara'}\n"
          ]
        }
      ]
    },
    {
      "cell_type": "code",
      "source": [
        "df['Order Country'] = df['Order Country'].map(countries_dict)"
      ],
      "metadata": {
        "id": "o_UFR4mwoTmU"
      },
      "execution_count": null,
      "outputs": []
    },
    {
      "cell_type": "code",
      "source": [
        "df['Customer Country'] = df['Customer Country'].map(countries_dict)"
      ],
      "metadata": {
        "id": "157FibQ4qmMp"
      },
      "execution_count": null,
      "outputs": []
    },
    {
      "cell_type": "code",
      "source": [],
      "metadata": {
        "id": "V7_Y5KCW0sKZ"
      },
      "execution_count": null,
      "outputs": []
    },
    {
      "cell_type": "markdown",
      "source": [
        "# Phase 2: Data Analysis\n",
        "In this phase, the data will be analyzed to identify patterns and trends. Statistical techniques will be used to identify areas of improvement in the supply chain management process. Key performance indicators (KPIs) will be identified to measure the success of the optimization process."
      ],
      "metadata": {
        "id": "yydRhjWMiPhE"
      }
    },
    {
      "cell_type": "code",
      "source": [
        "# group the sales by country and sum the sales for each country\n",
        "sales_by_country = df.groupby('Order Country')['Sales'].sum()\n",
        "\n",
        "# sort the countries by sales in descending order and select the top 10\n",
        "top_10_countries = sales_by_country.sort_values(ascending=False).head(10)\n",
        "\n",
        "# create a new dataframe with the top 10 countries and their sales in million dollars\n",
        "top_10_df = pd.DataFrame({'Country': top_10_countries.index, 'Sales (in million dollars)': top_10_countries.values / 1000000})\n",
        "\n",
        "print(top_10_df)"
      ],
      "metadata": {
        "colab": {
          "base_uri": "https://localhost:8080/"
        },
        "id": "Ag8koz7oiP_f",
        "outputId": "c52ba1ef-29fa-41b3-a467-e774d842b6fd"
      },
      "execution_count": null,
      "outputs": [
        {
          "output_type": "stream",
          "name": "stdout",
          "text": [
            "          Country  Sales (in million dollars)\n",
            "0   United States                    4.879668\n",
            "1          France                    2.879942\n",
            "2          Mexico                    2.633195\n",
            "3         Germany                    2.074172\n",
            "4       Australia                    1.694622\n",
            "5  United Kingdom                    1.612095\n",
            "6          Brazil                    1.594320\n",
            "7           China                    1.172902\n",
            "8           Italy                    1.072182\n",
            "9           India                    0.962397\n"
          ]
        }
      ]
    },
    {
      "cell_type": "code",
      "source": [
        "df[['Sales', 'Order Profit Per Order', 'Benefit per order']].describe()"
      ],
      "metadata": {
        "colab": {
          "base_uri": "https://localhost:8080/",
          "height": 300
        },
        "id": "M8724FF4lDG_",
        "outputId": "193e70dd-314c-40df-e984-e31028213052"
      },
      "execution_count": null,
      "outputs": [
        {
          "output_type": "execute_result",
          "data": {
            "text/plain": [
              "               Sales  Order Profit Per Order  Benefit per order\n",
              "count  180519.000000           180519.000000      180519.000000\n",
              "mean      203.772096               21.974989          21.974989\n",
              "std       132.273077              104.433526         104.433526\n",
              "min         9.990000            -4274.979980       -4274.979980\n",
              "25%       119.980003                7.000000           7.000000\n",
              "50%       199.919998               31.520000          31.520000\n",
              "75%       299.950012               64.800003          64.800003\n",
              "max      1999.989990              911.799988         911.799988"
            ],
            "text/html": [
              "\n",
              "  <div id=\"df-3964db86-ac7b-47c7-99e8-75a2b3d19222\">\n",
              "    <div class=\"colab-df-container\">\n",
              "      <div>\n",
              "<style scoped>\n",
              "    .dataframe tbody tr th:only-of-type {\n",
              "        vertical-align: middle;\n",
              "    }\n",
              "\n",
              "    .dataframe tbody tr th {\n",
              "        vertical-align: top;\n",
              "    }\n",
              "\n",
              "    .dataframe thead th {\n",
              "        text-align: right;\n",
              "    }\n",
              "</style>\n",
              "<table border=\"1\" class=\"dataframe\">\n",
              "  <thead>\n",
              "    <tr style=\"text-align: right;\">\n",
              "      <th></th>\n",
              "      <th>Sales</th>\n",
              "      <th>Order Profit Per Order</th>\n",
              "      <th>Benefit per order</th>\n",
              "    </tr>\n",
              "  </thead>\n",
              "  <tbody>\n",
              "    <tr>\n",
              "      <th>count</th>\n",
              "      <td>180519.000000</td>\n",
              "      <td>180519.000000</td>\n",
              "      <td>180519.000000</td>\n",
              "    </tr>\n",
              "    <tr>\n",
              "      <th>mean</th>\n",
              "      <td>203.772096</td>\n",
              "      <td>21.974989</td>\n",
              "      <td>21.974989</td>\n",
              "    </tr>\n",
              "    <tr>\n",
              "      <th>std</th>\n",
              "      <td>132.273077</td>\n",
              "      <td>104.433526</td>\n",
              "      <td>104.433526</td>\n",
              "    </tr>\n",
              "    <tr>\n",
              "      <th>min</th>\n",
              "      <td>9.990000</td>\n",
              "      <td>-4274.979980</td>\n",
              "      <td>-4274.979980</td>\n",
              "    </tr>\n",
              "    <tr>\n",
              "      <th>25%</th>\n",
              "      <td>119.980003</td>\n",
              "      <td>7.000000</td>\n",
              "      <td>7.000000</td>\n",
              "    </tr>\n",
              "    <tr>\n",
              "      <th>50%</th>\n",
              "      <td>199.919998</td>\n",
              "      <td>31.520000</td>\n",
              "      <td>31.520000</td>\n",
              "    </tr>\n",
              "    <tr>\n",
              "      <th>75%</th>\n",
              "      <td>299.950012</td>\n",
              "      <td>64.800003</td>\n",
              "      <td>64.800003</td>\n",
              "    </tr>\n",
              "    <tr>\n",
              "      <th>max</th>\n",
              "      <td>1999.989990</td>\n",
              "      <td>911.799988</td>\n",
              "      <td>911.799988</td>\n",
              "    </tr>\n",
              "  </tbody>\n",
              "</table>\n",
              "</div>\n",
              "      <button class=\"colab-df-convert\" onclick=\"convertToInteractive('df-3964db86-ac7b-47c7-99e8-75a2b3d19222')\"\n",
              "              title=\"Convert this dataframe to an interactive table.\"\n",
              "              style=\"display:none;\">\n",
              "        \n",
              "  <svg xmlns=\"http://www.w3.org/2000/svg\" height=\"24px\"viewBox=\"0 0 24 24\"\n",
              "       width=\"24px\">\n",
              "    <path d=\"M0 0h24v24H0V0z\" fill=\"none\"/>\n",
              "    <path d=\"M18.56 5.44l.94 2.06.94-2.06 2.06-.94-2.06-.94-.94-2.06-.94 2.06-2.06.94zm-11 1L8.5 8.5l.94-2.06 2.06-.94-2.06-.94L8.5 2.5l-.94 2.06-2.06.94zm10 10l.94 2.06.94-2.06 2.06-.94-2.06-.94-.94-2.06-.94 2.06-2.06.94z\"/><path d=\"M17.41 7.96l-1.37-1.37c-.4-.4-.92-.59-1.43-.59-.52 0-1.04.2-1.43.59L10.3 9.45l-7.72 7.72c-.78.78-.78 2.05 0 2.83L4 21.41c.39.39.9.59 1.41.59.51 0 1.02-.2 1.41-.59l7.78-7.78 2.81-2.81c.8-.78.8-2.07 0-2.86zM5.41 20L4 18.59l7.72-7.72 1.47 1.35L5.41 20z\"/>\n",
              "  </svg>\n",
              "      </button>\n",
              "      \n",
              "  <style>\n",
              "    .colab-df-container {\n",
              "      display:flex;\n",
              "      flex-wrap:wrap;\n",
              "      gap: 12px;\n",
              "    }\n",
              "\n",
              "    .colab-df-convert {\n",
              "      background-color: #E8F0FE;\n",
              "      border: none;\n",
              "      border-radius: 50%;\n",
              "      cursor: pointer;\n",
              "      display: none;\n",
              "      fill: #1967D2;\n",
              "      height: 32px;\n",
              "      padding: 0 0 0 0;\n",
              "      width: 32px;\n",
              "    }\n",
              "\n",
              "    .colab-df-convert:hover {\n",
              "      background-color: #E2EBFA;\n",
              "      box-shadow: 0px 1px 2px rgba(60, 64, 67, 0.3), 0px 1px 3px 1px rgba(60, 64, 67, 0.15);\n",
              "      fill: #174EA6;\n",
              "    }\n",
              "\n",
              "    [theme=dark] .colab-df-convert {\n",
              "      background-color: #3B4455;\n",
              "      fill: #D2E3FC;\n",
              "    }\n",
              "\n",
              "    [theme=dark] .colab-df-convert:hover {\n",
              "      background-color: #434B5C;\n",
              "      box-shadow: 0px 1px 3px 1px rgba(0, 0, 0, 0.15);\n",
              "      filter: drop-shadow(0px 1px 2px rgba(0, 0, 0, 0.3));\n",
              "      fill: #FFFFFF;\n",
              "    }\n",
              "  </style>\n",
              "\n",
              "      <script>\n",
              "        const buttonEl =\n",
              "          document.querySelector('#df-3964db86-ac7b-47c7-99e8-75a2b3d19222 button.colab-df-convert');\n",
              "        buttonEl.style.display =\n",
              "          google.colab.kernel.accessAllowed ? 'block' : 'none';\n",
              "\n",
              "        async function convertToInteractive(key) {\n",
              "          const element = document.querySelector('#df-3964db86-ac7b-47c7-99e8-75a2b3d19222');\n",
              "          const dataTable =\n",
              "            await google.colab.kernel.invokeFunction('convertToInteractive',\n",
              "                                                     [key], {});\n",
              "          if (!dataTable) return;\n",
              "\n",
              "          const docLinkHtml = 'Like what you see? Visit the ' +\n",
              "            '<a target=\"_blank\" href=https://colab.research.google.com/notebooks/data_table.ipynb>data table notebook</a>'\n",
              "            + ' to learn more about interactive tables.';\n",
              "          element.innerHTML = '';\n",
              "          dataTable['output_type'] = 'display_data';\n",
              "          await google.colab.output.renderOutput(dataTable, element);\n",
              "          const docLink = document.createElement('div');\n",
              "          docLink.innerHTML = docLinkHtml;\n",
              "          element.appendChild(docLink);\n",
              "        }\n",
              "      </script>\n",
              "    </div>\n",
              "  </div>\n",
              "  "
            ]
          },
          "metadata": {},
          "execution_count": 18
        }
      ]
    },
    {
      "cell_type": "code",
      "source": [],
      "metadata": {
        "id": "qVu6KX8MoE6g"
      },
      "execution_count": null,
      "outputs": []
    }
  ]
}