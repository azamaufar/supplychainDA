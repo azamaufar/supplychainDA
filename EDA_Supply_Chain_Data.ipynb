{
  "cells": [
    {
      "cell_type": "markdown",
      "metadata": {
        "colab_type": "text",
        "id": "view-in-github"
      },
      "source": [
        "<a href=\"https://colab.research.google.com/github/azamaufar/supplychainDA/blob/main/EDA_Supply_Chain_Data.ipynb\" target=\"_parent\"><img src=\"https://colab.research.google.com/assets/colab-badge.svg\" alt=\"Open In Colab\"/></a>"
      ]
    },
    {
      "attachments": {},
      "cell_type": "markdown",
      "metadata": {
        "id": "ZEzy1M0d5zX9"
      },
      "source": [
        "Based on the available data, you can still perform some analyses, including:\n",
        "\n",
        "2. Inventory analysis: You can use the 'Sales' and 'Order Item Quantity' columns to analyze inventory levels and ensure that you have enough inventory to meet customer demand. By understanding the demand patterns, you can optimize production schedules and inventory levels.\n",
        "\n",
        "3. Supplier analysis: Although you may not have data specifically related to suppliers, you can use the 'Product Name' and 'Product Price' columns to evaluate the performance of different products. By analyzing product quality, pricing, and popularity, you can identify which products are most profitable and adjust your product mix accordingly.\n",
        "\n",
        "4. Demand forecasting: You can use historical data from the 'Sales' column to predict future demand for products. This can help you optimize production schedules, inventory levels, and transportation routes.\n",
        "\n",
        "5. Transportation analysis: You can analyze the 'Days for shipping (real)' and 'Days for shipment (scheduled)' columns to optimize transportation routes, modes, and carriers. By reducing transportation costs and improving delivery times, you can enhance customer satisfaction.\n",
        "\n",
        "Overall, while there may be some limitations due to the data available, you can still perform several analyses to optimize your supply chain and reduce costs."
      ]
    },
    {
      "cell_type": "markdown",
      "metadata": {
        "id": "v78KlxnXhbnW"
      },
      "source": []
    },
    {
      "cell_type": "markdown",
      "metadata": {
        "id": "erOahKwJhcIB"
      },
      "source": [
        "# Phase 1: Data Cleaning and Preparation\n",
        "In this phase, the data will be cleaned and prepared for analysis. The accuracy and completeness of the data will be verified, and the data will be formatted suitably for analysis."
      ]
    },
    {
      "cell_type": "markdown",
      "metadata": {
        "id": "HIRdcFnJhmzb"
      },
      "source": [
        "Import necessary library"
      ]
    },
    {
      "cell_type": "code",
      "execution_count": 27,
      "metadata": {
        "id": "FaLxGiwGtw_J"
      },
      "outputs": [],
      "source": [
        "# import library\n",
        "import numpy as np\n",
        "import pandas as pd\n",
        "import matplotlib.pyplot as plt\n",
        "plt.style.use('ggplot')\n",
        "import seaborn as sns\n",
        "import datetime as dt\n",
        "from statistics import mode\n",
        "\n",
        "from IPython.display import Image\n",
        "sns.set(style=\"darkgrid\")"
      ]
    },
    {
      "cell_type": "code",
      "execution_count": 2,
      "metadata": {
        "id": "lVmaCPO_uDup"
      },
      "outputs": [],
      "source": [
        "# Import dataset\n",
        "\n",
        "df=pd.read_csv(\"/home/gaza/supplychainDA/data/dataset.csv\",\n",
        "               parse_dates=['order date (DateOrders)','shipping date (DateOrders)'],\n",
        "               )\n",
        "for categorical_col in [\"Category Name\", \"Shipping Mode\",'Department Name', \"Order Status\",\n",
        "                        'Customer Segment', \"Type\", \"Delivery Status\", \"Market\"]:\n",
        "    df[categorical_col] = df[categorical_col].astype(\n",
        "        \"category\"\n",
        "    )\n",
        "df.drop(['Product Description','Product Image','Order Zipcode', \"Customer Password\",\n",
        "         \"Customer Fname\", \"Customer Email\"], \n",
        "        axis=1,\n",
        "        inplace=True)\n",
        "df = df.dropna(axis=1)"
      ]
    },
    {
      "cell_type": "code",
      "execution_count": 3,
      "metadata": {
        "colab": {
          "base_uri": "https://localhost:8080/",
          "height": 421
        },
        "id": "L2stkdtWuNRD",
        "outputId": "3cc28273-6577-44bd-c6fa-f315d2659351"
      },
      "outputs": [
        {
          "data": {
            "text/html": [
              "<div>\n",
              "<style scoped>\n",
              "    .dataframe tbody tr th:only-of-type {\n",
              "        vertical-align: middle;\n",
              "    }\n",
              "\n",
              "    .dataframe tbody tr th {\n",
              "        vertical-align: top;\n",
              "    }\n",
              "\n",
              "    .dataframe thead th {\n",
              "        text-align: right;\n",
              "    }\n",
              "</style>\n",
              "<table border=\"1\" class=\"dataframe\">\n",
              "  <thead>\n",
              "    <tr style=\"text-align: right;\">\n",
              "      <th></th>\n",
              "      <th>Type</th>\n",
              "      <th>Days for shipping (real)</th>\n",
              "      <th>Days for shipment (scheduled)</th>\n",
              "      <th>Benefit per order</th>\n",
              "      <th>Sales per customer</th>\n",
              "      <th>Delivery Status</th>\n",
              "      <th>Late_delivery_risk</th>\n",
              "      <th>Category Id</th>\n",
              "      <th>Category Name</th>\n",
              "      <th>Customer City</th>\n",
              "      <th>...</th>\n",
              "      <th>Order Region</th>\n",
              "      <th>Order State</th>\n",
              "      <th>Order Status</th>\n",
              "      <th>Product Card Id</th>\n",
              "      <th>Product Category Id</th>\n",
              "      <th>Product Name</th>\n",
              "      <th>Product Price</th>\n",
              "      <th>Product Status</th>\n",
              "      <th>shipping date (DateOrders)</th>\n",
              "      <th>Shipping Mode</th>\n",
              "    </tr>\n",
              "  </thead>\n",
              "  <tbody>\n",
              "    <tr>\n",
              "      <th>0</th>\n",
              "      <td>DEBIT</td>\n",
              "      <td>3</td>\n",
              "      <td>4</td>\n",
              "      <td>91.250000</td>\n",
              "      <td>314.640015</td>\n",
              "      <td>Advance shipping</td>\n",
              "      <td>False</td>\n",
              "      <td>73</td>\n",
              "      <td>Sporting Goods</td>\n",
              "      <td>Caguas</td>\n",
              "      <td>...</td>\n",
              "      <td>Southeast Asia</td>\n",
              "      <td>Java Occidental</td>\n",
              "      <td>COMPLETE</td>\n",
              "      <td>1360</td>\n",
              "      <td>73</td>\n",
              "      <td>Smart watch</td>\n",
              "      <td>327.75</td>\n",
              "      <td>False</td>\n",
              "      <td>2018-02-03 22:56:00</td>\n",
              "      <td>Standard Class</td>\n",
              "    </tr>\n",
              "    <tr>\n",
              "      <th>1</th>\n",
              "      <td>TRANSFER</td>\n",
              "      <td>5</td>\n",
              "      <td>4</td>\n",
              "      <td>-249.089996</td>\n",
              "      <td>311.359985</td>\n",
              "      <td>Late delivery</td>\n",
              "      <td>True</td>\n",
              "      <td>73</td>\n",
              "      <td>Sporting Goods</td>\n",
              "      <td>Caguas</td>\n",
              "      <td>...</td>\n",
              "      <td>South Asia</td>\n",
              "      <td>Rajastán</td>\n",
              "      <td>PENDING</td>\n",
              "      <td>1360</td>\n",
              "      <td>73</td>\n",
              "      <td>Smart watch</td>\n",
              "      <td>327.75</td>\n",
              "      <td>False</td>\n",
              "      <td>2018-01-18 12:27:00</td>\n",
              "      <td>Standard Class</td>\n",
              "    </tr>\n",
              "    <tr>\n",
              "      <th>2</th>\n",
              "      <td>CASH</td>\n",
              "      <td>4</td>\n",
              "      <td>4</td>\n",
              "      <td>-247.779999</td>\n",
              "      <td>309.720001</td>\n",
              "      <td>Shipping on time</td>\n",
              "      <td>False</td>\n",
              "      <td>73</td>\n",
              "      <td>Sporting Goods</td>\n",
              "      <td>San Jose</td>\n",
              "      <td>...</td>\n",
              "      <td>South Asia</td>\n",
              "      <td>Rajastán</td>\n",
              "      <td>CLOSED</td>\n",
              "      <td>1360</td>\n",
              "      <td>73</td>\n",
              "      <td>Smart watch</td>\n",
              "      <td>327.75</td>\n",
              "      <td>False</td>\n",
              "      <td>2018-01-17 12:06:00</td>\n",
              "      <td>Standard Class</td>\n",
              "    </tr>\n",
              "    <tr>\n",
              "      <th>3</th>\n",
              "      <td>DEBIT</td>\n",
              "      <td>3</td>\n",
              "      <td>4</td>\n",
              "      <td>22.860001</td>\n",
              "      <td>304.809998</td>\n",
              "      <td>Advance shipping</td>\n",
              "      <td>False</td>\n",
              "      <td>73</td>\n",
              "      <td>Sporting Goods</td>\n",
              "      <td>Los Angeles</td>\n",
              "      <td>...</td>\n",
              "      <td>Oceania</td>\n",
              "      <td>Queensland</td>\n",
              "      <td>COMPLETE</td>\n",
              "      <td>1360</td>\n",
              "      <td>73</td>\n",
              "      <td>Smart watch</td>\n",
              "      <td>327.75</td>\n",
              "      <td>False</td>\n",
              "      <td>2018-01-16 11:45:00</td>\n",
              "      <td>Standard Class</td>\n",
              "    </tr>\n",
              "    <tr>\n",
              "      <th>4</th>\n",
              "      <td>PAYMENT</td>\n",
              "      <td>2</td>\n",
              "      <td>4</td>\n",
              "      <td>134.210007</td>\n",
              "      <td>298.250000</td>\n",
              "      <td>Advance shipping</td>\n",
              "      <td>False</td>\n",
              "      <td>73</td>\n",
              "      <td>Sporting Goods</td>\n",
              "      <td>Caguas</td>\n",
              "      <td>...</td>\n",
              "      <td>Oceania</td>\n",
              "      <td>Queensland</td>\n",
              "      <td>PENDING_PAYMENT</td>\n",
              "      <td>1360</td>\n",
              "      <td>73</td>\n",
              "      <td>Smart watch</td>\n",
              "      <td>327.75</td>\n",
              "      <td>False</td>\n",
              "      <td>2018-01-15 11:24:00</td>\n",
              "      <td>Standard Class</td>\n",
              "    </tr>\n",
              "  </tbody>\n",
              "</table>\n",
              "<p>5 rows × 45 columns</p>\n",
              "</div>"
            ],
            "text/plain": [
              "       Type  Days for shipping (real)  Days for shipment (scheduled)  \\\n",
              "0     DEBIT                         3                              4   \n",
              "1  TRANSFER                         5                              4   \n",
              "2      CASH                         4                              4   \n",
              "3     DEBIT                         3                              4   \n",
              "4   PAYMENT                         2                              4   \n",
              "\n",
              "   Benefit per order  Sales per customer   Delivery Status  \\\n",
              "0          91.250000          314.640015  Advance shipping   \n",
              "1        -249.089996          311.359985     Late delivery   \n",
              "2        -247.779999          309.720001  Shipping on time   \n",
              "3          22.860001          304.809998  Advance shipping   \n",
              "4         134.210007          298.250000  Advance shipping   \n",
              "\n",
              "   Late_delivery_risk  Category Id   Category Name Customer City  ...  \\\n",
              "0               False           73  Sporting Goods        Caguas  ...   \n",
              "1                True           73  Sporting Goods        Caguas  ...   \n",
              "2               False           73  Sporting Goods      San Jose  ...   \n",
              "3               False           73  Sporting Goods   Los Angeles  ...   \n",
              "4               False           73  Sporting Goods        Caguas  ...   \n",
              "\n",
              "     Order Region      Order State     Order Status Product Card Id  \\\n",
              "0  Southeast Asia  Java Occidental         COMPLETE            1360   \n",
              "1      South Asia         Rajastán          PENDING            1360   \n",
              "2      South Asia         Rajastán           CLOSED            1360   \n",
              "3         Oceania       Queensland         COMPLETE            1360   \n",
              "4         Oceania       Queensland  PENDING_PAYMENT            1360   \n",
              "\n",
              "  Product Category Id  Product Name Product Price  Product Status  \\\n",
              "0                  73   Smart watch        327.75           False   \n",
              "1                  73   Smart watch        327.75           False   \n",
              "2                  73   Smart watch        327.75           False   \n",
              "3                  73   Smart watch        327.75           False   \n",
              "4                  73   Smart watch        327.75           False   \n",
              "\n",
              "   shipping date (DateOrders)   Shipping Mode  \n",
              "0         2018-02-03 22:56:00  Standard Class  \n",
              "1         2018-01-18 12:27:00  Standard Class  \n",
              "2         2018-01-17 12:06:00  Standard Class  \n",
              "3         2018-01-16 11:45:00  Standard Class  \n",
              "4         2018-01-15 11:24:00  Standard Class  \n",
              "\n",
              "[5 rows x 45 columns]"
            ]
          },
          "execution_count": 3,
          "metadata": {},
          "output_type": "execute_result"
        }
      ],
      "source": [
        "df.head()"
      ]
    },
    {
      "cell_type": "markdown",
      "metadata": {
        "id": "JBvFi4KghMgN"
      },
      "source": [
        "Dataset Description"
      ]
    },
    {
      "cell_type": "markdown",
      "metadata": {
        "id": "5nI7d9NSeQqE"
      },
      "source": [
        "|FIELDS| DESCRIPTION |\n",
        "|------|-------------|\n",
        "|Type|  Type of transaction made |\n",
        "|Days for shipping (real)|  Actual shipping days of the purchased product|\n",
        "|Days for shipment (scheduled)|  Days of scheduled delivery of the purchased product|\n",
        "|Benefit per order|  Earnings per order placed|\n",
        "|Sales per customer|  Total sales per customer made per customer|\n",
        "|Delivery Status|  Delivery status of orders: Advance shipping , Late delivery , Shipping canceled , Shipping on time\"|\n",
        "|Late_delivery_risk|  Categorical variable that indicates if sending is late (1), it is not late (0).\"|\n",
        "|Category Id|  Product category code|\n",
        "|Category Name|  Description of the product category|\n",
        "|Customer City|  City where the customer made the purchase|\n",
        "|Customer Country|  Country where the customer made the purchase|\n",
        "|Customer Email|  Customer's email|\n",
        "|Customer Fname|  Customer name|\n",
        "|Customer Id|  Customer ID|\n",
        "|Customer Lname|  Customer lastname|\n",
        "|Customer Password|  Masked customer key|\n",
        "|Customer Segment|  Types of Customers: Consumer , Corporate , Home Office\"|\n",
        "|Customer State|  State to which the store where the purchase is registered belongs|\n",
        "|Customer Street|  Street to which the store where the purchase is registered belongs|\n",
        "|Customer Zipcode|  Customer Zipcode|\n",
        "|Department Id|  Department code of store|\n",
        "|Department Name|  Department name of store|\n",
        "|Latitude|  Latitude corresponding to location of store|\n",
        "|Longitude|  Longitude corresponding to location of store|\n",
        "|Market|  Market to where the order is delivered : Africa , Europe , LATAM , Pacific Asia , USCA\"|\n",
        "|Order City|  Destination city of the order|\n",
        "|Order Country|  Destination country of the order|\n",
        "|Order Customer Id|  Customer order code|\n",
        "|order date (DateOrders)|  Date on which the order is made|\n",
        "|Order Id|  Order code|\n",
        "|Order Item Cardprod Id|  Product code generated through the RFID reader|\n",
        "|Order Item Discount|  Order item discount value|\n",
        "|Order Item Discount Rate|  Order item discount percentage|\n",
        "|Order Item Id|  Order item code|\n",
        "|Order Item Product Price|  Price of products without discount|\n",
        "|Order Item Profit Ratio|  Order Item Profit Ratio|\n",
        "|Order Item Quantity|  Number of products per order|\n",
        "|Sales|  Value in sales|\n",
        "|Order Item Total|  Total amount per order|\n",
        "|Order Profit Per Order|  Order Profit Per Order|\n",
        "|Order Region|  Region of the world where the order is delivered :  Southeast Asia ,South Asia ,Oceania ,Eastern Asia, West Asia , West of USA , US Center , West Africa, Central Africa ,North Africa ,Western Europe ,Northern , Caribbean , South America ,East Africa ,Southern Europe , East of USA ,Canada ,Southern Africa , Central Asia ,  Europe , Central America, Eastern Europe , South of  USA \"|\n",
        "|Order State|  State of the region where the order is delivered|\n",
        "|Order Status|  Order Status : COMPLETE , PENDING , CLOSED , PENDING_PAYMENT ,CANCELED , PROCESSING ,SUSPECTED_FRAUD ,ON_HOLD ,PAYMENT_REVIEW\"|\n",
        "|Product Card Id|  Product code|\n",
        "|Product Category Id|  Product category code|\n",
        "|Product Description|  Product Description|\n",
        "|Product Image|  Link of visit and purchase of the product|\n",
        "|Product Name|  Product Name|\n",
        "|Product Price|  Product Price|\n",
        "|Product Status|  Status of the product stock :If it is 1 not available , 0 the product is available \"|\n",
        "|Shipping date (DateOrders)|  Exact date and time of shipment|\n",
        "|Shipping Mode|  The following shipping modes are presented : Standard Class , First Class , Second Class , Same Day\"|\n"
      ]
    },
    {
      "cell_type": "code",
      "execution_count": 6,
      "metadata": {
        "colab": {
          "base_uri": "https://localhost:8080/"
        },
        "id": "iJpyCv0HhU5X",
        "outputId": "f1ebd404-52c6-4351-8035-9a333808af70"
      },
      "outputs": [
        {
          "name": "stdout",
          "output_type": "stream",
          "text": [
            "<class 'pandas.core.frame.DataFrame'>\n",
            "RangeIndex: 180519 entries, 0 to 180518\n",
            "Data columns (total 45 columns):\n",
            " #   Column                         Non-Null Count   Dtype         \n",
            "---  ------                         --------------   -----         \n",
            " 0   Type                           180519 non-null  category      \n",
            " 1   Days for shipping (real)       180519 non-null  int64         \n",
            " 2   Days for shipment (scheduled)  180519 non-null  int64         \n",
            " 3   Benefit per order              180519 non-null  float64       \n",
            " 4   Sales per customer             180519 non-null  float64       \n",
            " 5   Delivery Status                180519 non-null  category      \n",
            " 6   Late_delivery_risk             180519 non-null  bool          \n",
            " 7   Category Id                    180519 non-null  int64         \n",
            " 8   Category Name                  180519 non-null  category      \n",
            " 9   Customer City                  180519 non-null  object        \n",
            " 10  Customer Country               180519 non-null  object        \n",
            " 11  Customer Id                    180519 non-null  int64         \n",
            " 12  Customer Segment               180519 non-null  category      \n",
            " 13  Customer State                 180519 non-null  object        \n",
            " 14  Customer Street                180519 non-null  object        \n",
            " 15  Department Id                  180519 non-null  int64         \n",
            " 16  Department Name                180519 non-null  category      \n",
            " 17  Latitude                       180519 non-null  float64       \n",
            " 18  Longitude                      180519 non-null  float64       \n",
            " 19  Market                         180519 non-null  category      \n",
            " 20  Order City                     180519 non-null  object        \n",
            " 21  Order Country                  180519 non-null  object        \n",
            " 22  Order Customer Id              180519 non-null  int64         \n",
            " 23  order date (DateOrders)        180519 non-null  datetime64[ns]\n",
            " 24  Order Id                       180519 non-null  int64         \n",
            " 25  Order Item Cardprod Id         180519 non-null  int64         \n",
            " 26  Order Item Discount            180519 non-null  float64       \n",
            " 27  Order Item Discount Rate       180519 non-null  float64       \n",
            " 28  Order Item Id                  180519 non-null  int64         \n",
            " 29  Order Item Product Price       180519 non-null  float64       \n",
            " 30  Order Item Profit Ratio        180519 non-null  float64       \n",
            " 31  Order Item Quantity            180519 non-null  int64         \n",
            " 32  Sales                          180519 non-null  float64       \n",
            " 33  Order Item Total               180519 non-null  float64       \n",
            " 34  Order Profit Per Order         180519 non-null  float64       \n",
            " 35  Order Region                   180519 non-null  object        \n",
            " 36  Order State                    180519 non-null  object        \n",
            " 37  Order Status                   180519 non-null  category      \n",
            " 38  Product Card Id                180519 non-null  int64         \n",
            " 39  Product Category Id            180519 non-null  int64         \n",
            " 40  Product Name                   180519 non-null  object        \n",
            " 41  Product Price                  180519 non-null  float64       \n",
            " 42  Product Status                 180519 non-null  bool          \n",
            " 43  shipping date (DateOrders)     180519 non-null  datetime64[ns]\n",
            " 44  Shipping Mode                  180519 non-null  category      \n",
            "dtypes: bool(2), category(8), datetime64[ns](2), float64(12), int64(12), object(9)\n",
            "memory usage: 49.9+ MB\n"
          ]
        }
      ],
      "source": [
        "# information of dataset\n",
        "df.info()"
      ]
    },
    {
      "cell_type": "code",
      "execution_count": 45,
      "metadata": {
        "colab": {
          "base_uri": "https://localhost:8080/"
        },
        "id": "D2DskqHC1E4E",
        "outputId": "fe05856d-ca57-4cd6-c09a-964249105750"
      },
      "outputs": [
        {
          "data": {
            "text/plain": [
              "array(['Indonesia', 'India', 'Australia', 'China', 'Japón',\n",
              "       'Corea del Sur', 'Singapur', 'Turquía', 'Mongolia',\n",
              "       'Estados Unidos', 'Nigeria', 'República Democrática del Congo',\n",
              "       'Senegal', 'Marruecos', 'Alemania', 'Francia', 'Países Bajos',\n",
              "       'Reino Unido', 'Guatemala', 'El Salvador', 'Panamá',\n",
              "       'República Dominicana', 'Venezuela', 'Colombia', 'Honduras',\n",
              "       'Brasil', 'México', 'Uruguay', 'Argentina', 'Cuba', 'Perú',\n",
              "       'Nicaragua', 'Ecuador', 'Angola', 'Sudán', 'Somalia',\n",
              "       'Costa de Marfil', 'Egipto', 'Italia', 'España', 'Suecia',\n",
              "       'Austria', 'Canada', 'Madagascar', 'Argelia', 'Liberia', 'Zambia',\n",
              "       'Níger', 'SudAfrica', 'Mozambique', 'Tanzania', 'Ruanda', 'Israel',\n",
              "       'Nueva Zelanda', 'Bangladés', 'Tailandia', 'Irak', 'Arabia Saudí',\n",
              "       'Filipinas', 'Kazajistán', 'Irán', 'Myanmar (Birmania)',\n",
              "       'Uzbekistán', 'Benín', 'Camerún', 'Kenia', 'Togo', 'Ucrania',\n",
              "       'Polonia', 'Portugal', 'Rumania', 'Trinidad y Tobago',\n",
              "       'Afganistán', 'Pakistán', 'Vietnam', 'Malasia', 'Finlandia',\n",
              "       'Rusia', 'Irlanda', 'Noruega', 'Eslovaquia', 'Bélgica', 'Bolivia',\n",
              "       'Chile', 'Jamaica', 'Yemen', 'Ghana', 'Guinea', 'Etiopía',\n",
              "       'Bulgaria', 'Kirguistán', 'Georgia', 'Nepal',\n",
              "       'Emiratos Árabes Unidos', 'Camboya', 'Uganda', 'Lesoto',\n",
              "       'Lituania', 'Suiza', 'Hungría', 'Dinamarca', 'Haití',\n",
              "       'Bielorrusia', 'Croacia', 'Laos', 'Baréin', 'Macedonia',\n",
              "       'República Checa', 'Sri Lanka', 'Zimbabue', 'Eritrea',\n",
              "       'Burkina Faso', 'Costa Rica', 'Libia', 'Barbados', 'Tayikistán',\n",
              "       'Siria', 'Guadalupe', 'Papúa Nueva Guinea', 'Azerbaiyán',\n",
              "       'Turkmenistán', 'Paraguay', 'Jordania', 'Hong Kong', 'Martinica',\n",
              "       'Moldavia', 'Qatar', 'Mali', 'Albania', 'República del Congo',\n",
              "       'Bosnia y Herzegovina', 'Omán', 'Túnez', 'Sierra Leona', 'Yibuti',\n",
              "       'Burundi', 'Montenegro', 'Gabón', 'Sudán del Sur', 'Luxemburgo',\n",
              "       'Namibia', 'Mauritania', 'Grecia', 'Suazilandia', 'Guyana',\n",
              "       'Guayana Francesa', 'República Centroafricana', 'Taiwán',\n",
              "       'Estonia', 'Líbano', 'Chipre', 'Guinea-Bissau', 'Surinam',\n",
              "       'Belice', 'Eslovenia', 'República de Gambia', 'Botsuana',\n",
              "       'Armenia', 'Guinea Ecuatorial', 'Kuwait', 'Bután', 'Chad',\n",
              "       'Serbia', 'Sáhara Occidental'], dtype=object)"
            ]
          },
          "execution_count": 45,
          "metadata": {},
          "output_type": "execute_result"
        }
      ],
      "source": [
        "df['Order Country'].unique()"
      ]
    },
    {
      "cell_type": "markdown",
      "metadata": {
        "id": "uOmV1B5s4yAR"
      },
      "source": [
        "we'll translate countries name from esp to eng"
      ]
    },
    {
      "cell_type": "code",
      "execution_count": 7,
      "metadata": {
        "id": "AAa7EOBi4ggn"
      },
      "outputs": [],
      "source": [
        "countries_esp = ['Indonesia', 'India', 'Australia', 'China', 'Japón',\n",
        "       'Corea del Sur', 'Singapur', 'Turquía', 'Mongolia',\n",
        "       'Estados Unidos', 'Nigeria', 'República Democrática del Congo',\n",
        "       'Senegal', 'Marruecos', 'Alemania', 'Francia', 'Países Bajos',\n",
        "       'Reino Unido', 'Guatemala', 'El Salvador', 'Panamá',\n",
        "       'República Dominicana', 'Venezuela', 'Colombia', 'Honduras',\n",
        "       'Brasil', 'México', 'Uruguay', 'Argentina', 'Cuba', 'Perú',\n",
        "       'Nicaragua', 'Ecuador', 'Angola', 'Sudán', 'Somalia',\n",
        "       'Costa de Marfil', 'Egipto', 'Italia', 'España', 'Suecia',\n",
        "       'Austria', 'Canada', 'Madagascar', 'Argelia', 'Liberia', 'Zambia',\n",
        "       'Níger', 'SudAfrica', 'Mozambique', 'Tanzania', 'Ruanda', 'Israel',\n",
        "       'Nueva Zelanda', 'Bangladés', 'Tailandia', 'Irak', 'Arabia Saudí',\n",
        "       'Filipinas', 'Kazajistán', 'Irán', 'Myanmar (Birmania)',\n",
        "       'Uzbekistán', 'Benín', 'Camerún', 'Kenia', 'Togo', 'Ucrania',\n",
        "       'Polonia', 'Portugal', 'Rumania', 'Trinidad y Tobago',\n",
        "       'Afganistán', 'Pakistán', 'Vietnam', 'Malasia', 'Finlandia',\n",
        "       'Rusia', 'Irlanda', 'Noruega', 'Eslovaquia', 'Bélgica', 'Bolivia',\n",
        "       'Chile', 'Jamaica', 'Yemen', 'Ghana', 'Guinea', 'Etiopía',\n",
        "       'Bulgaria', 'Kirguistán', 'Georgia', 'Nepal',\n",
        "       'Emiratos Árabes Unidos', 'Camboya', 'Uganda', 'Lesoto',\n",
        "       'Lituania', 'Suiza', 'Hungría', 'Dinamarca', 'Haití',\n",
        "       'Bielorrusia', 'Croacia', 'Laos', 'Baréin', 'Macedonia',\n",
        "       'República Checa', 'Sri Lanka', 'Zimbabue', 'Eritrea',\n",
        "       'Burkina Faso', 'Costa Rica', 'Libia', 'Barbados', 'Tayikistán',\n",
        "       'Siria', 'Guadalupe', 'Papúa Nueva Guinea', 'Azerbaiyán',\n",
        "       'Turkmenistán', 'Paraguay', 'Jordania', 'Hong Kong', 'Martinica',\n",
        "       'Moldavia', 'Qatar', 'Mali', 'Albania', 'República del Congo',\n",
        "       'Bosnia y Herzegovina', 'Omán', 'Túnez', 'Sierra Leona', 'Yibuti',\n",
        "       'Burundi', 'Montenegro', 'Gabón', 'Sudán del Sur', 'Luxemburgo',\n",
        "       'Namibia', 'Mauritania', 'Grecia', 'Suazilandia', 'Guyana',\n",
        "       'Guayana Francesa', 'República Centroafricana', 'Taiwán',\n",
        "       'Estonia', 'Líbano', 'Chipre', 'Guinea-Bissau', 'Surinam',\n",
        "       'Belice', 'Eslovenia', 'República de Gambia', 'Botsuana',\n",
        "       'Armenia', 'Guinea Ecuatorial', 'Kuwait', 'Bután', 'Chad',\n",
        "       'Serbia', 'Sáhara Occidental']"
      ]
    },
    {
      "cell_type": "code",
      "execution_count": 8,
      "metadata": {
        "id": "KJk2PVFgyjB0"
      },
      "outputs": [],
      "source": [
        "countries_en = ['Indonesia', 'India', 'Australia', 'China', 'Japan',\n",
        "       'South Korea', 'Singapore', 'Turkey', 'Mongolia',\n",
        "       'United States', 'Nigeria', 'Democratic Republic of the Congo',\n",
        "       'Senegal', 'Morocco', 'Germany', 'France', 'Netherlands',\n",
        "       'United Kingdom', 'Guatemala', 'El Salvador', 'Panama',\n",
        "       'Dominican Republic', 'Venezuela', 'Colombia', 'Honduras',\n",
        "       'Brazil', 'Mexico', 'Uruguay', 'Argentina', 'Cuba', 'Peru',\n",
        "       'Nicaragua', 'Ecuador', 'Angola', 'Sudan', 'Somalia',\n",
        "       'Ivory Coast', 'Egypt', 'Italy', 'Spain', 'Sweden',\n",
        "       'Austria', 'Canada', 'Madagascar', 'Algeria', 'Liberia', 'Zambia',\n",
        "       'Niger', 'South Africa', 'Mozambique', 'Tanzania', 'Rwanda', 'Israel',\n",
        "       'New Zealand', 'Bangladesh', 'Thailand', 'Iraq', 'Saudi Arabia',\n",
        "       'Philippines', 'Kazakhstan', 'Iran', 'Myanmar (Burma)',\n",
        "       'Uzbekistan', 'Benin', 'Cameroon', 'Kenya', 'Togo', 'Ukraine',\n",
        "       'Poland', 'Portugal', 'Romania', 'Trinidad and Tobago',\n",
        "       'Afghanistan', 'Pakistan', 'Vietnam', 'Malaysia', 'Finland',\n",
        "       'Russia', 'Ireland', 'Norway', 'Slovakia', 'Belgium', 'Bolivia',\n",
        "       'Chile', 'Jamaica', 'Yemen', 'Ghana', 'Guinea', 'Ethiopia',\n",
        "       'Bulgaria', 'Kyrgyzstan', 'Georgia', 'Nepal',\n",
        "       'United Arab Emirates', 'Cambodia', 'Uganda', 'Lesotho',\n",
        "       'Lithuania', 'Switzerland', 'Hungary', 'Denmark', 'Haiti',\n",
        "       'Belarus', 'Croatia', 'Laos', 'Bahrain', 'Macedonia',\n",
        "       'Czech Republic', 'Sri Lanka', 'Zimbabwe', 'Eritrea',\n",
        "       'Burkina Faso', 'Costa Rica', 'Libya', 'Barbados', 'Tajikistan',\n",
        "       'Syria', 'Guadeloupe', 'Papua New Guinea', 'Azerbaijan',\n",
        "       'Turkmenistan', 'Paraguay', 'Jordan', 'Hong Kong', 'Martinique',\n",
        "       'Moldova', 'Qatar', 'Mali', 'Albania', 'Republic of the Congo',\n",
        "       'Bosnia and Herzegovina', 'Oman', 'Tunisia', 'Sierra Leone', 'Djibouti',\n",
        "       'Burundi', 'Montenegro', 'Gabon', 'South Sudan', 'Luxembourg',\n",
        "       'Namibia', 'Mauritania', 'Greece', 'Swaziland', 'Guyana',\n",
        "       'French Guiana', 'Central African Republic', 'Taiwan',\n",
        "       'Estonia', 'Lebanon', 'Cyprus', 'Guinea-Bissau', 'Suriname',\n",
        "       'Belize', 'Slovenia', 'Republic of The Gambia', 'Botswana',\n",
        "       'Armenia', 'Equatorial Guinea', 'Kuwait', 'Bhutan', 'Chad',\n",
        "       'Serbia', 'Western Sahara']"
      ]
    },
    {
      "cell_type": "code",
      "execution_count": 9,
      "metadata": {
        "colab": {
          "base_uri": "https://localhost:8080/"
        },
        "id": "tBURhrAUyqoT",
        "outputId": "09585278-0ef0-45f9-fefc-7ead9bbb3221"
      },
      "outputs": [
        {
          "name": "stdout",
          "output_type": "stream",
          "text": [
            "{'Indonesia': 'Indonesia', 'India': 'India', 'Australia': 'Australia', 'China': 'China', 'Japón': 'Japan', 'Corea del Sur': 'South Korea', 'Singapur': 'Singapore', 'Turquía': 'Turkey', 'Mongolia': 'Mongolia', 'Estados Unidos': 'United States', 'Nigeria': 'Nigeria', 'República Democrática del Congo': 'Democratic Republic of the Congo', 'Senegal': 'Senegal', 'Marruecos': 'Morocco', 'Alemania': 'Germany', 'Francia': 'France', 'Países Bajos': 'Netherlands', 'Reino Unido': 'United Kingdom', 'Guatemala': 'Guatemala', 'El Salvador': 'El Salvador', 'Panamá': 'Panama', 'República Dominicana': 'Dominican Republic', 'Venezuela': 'Venezuela', 'Colombia': 'Colombia', 'Honduras': 'Honduras', 'Brasil': 'Brazil', 'México': 'Mexico', 'Uruguay': 'Uruguay', 'Argentina': 'Argentina', 'Cuba': 'Cuba', 'Perú': 'Peru', 'Nicaragua': 'Nicaragua', 'Ecuador': 'Ecuador', 'Angola': 'Angola', 'Sudán': 'Sudan', 'Somalia': 'Somalia', 'Costa de Marfil': 'Ivory Coast', 'Egipto': 'Egypt', 'Italia': 'Italy', 'España': 'Spain', 'Suecia': 'Sweden', 'Austria': 'Austria', 'Canada': 'Canada', 'Madagascar': 'Madagascar', 'Argelia': 'Algeria', 'Liberia': 'Liberia', 'Zambia': 'Zambia', 'Níger': 'Niger', 'SudAfrica': 'South Africa', 'Mozambique': 'Mozambique', 'Tanzania': 'Tanzania', 'Ruanda': 'Rwanda', 'Israel': 'Israel', 'Nueva Zelanda': 'New Zealand', 'Bangladés': 'Bangladesh', 'Tailandia': 'Thailand', 'Irak': 'Iraq', 'Arabia Saudí': 'Saudi Arabia', 'Filipinas': 'Philippines', 'Kazajistán': 'Kazakhstan', 'Irán': 'Iran', 'Myanmar (Birmania)': 'Myanmar (Burma)', 'Uzbekistán': 'Uzbekistan', 'Benín': 'Benin', 'Camerún': 'Cameroon', 'Kenia': 'Kenya', 'Togo': 'Togo', 'Ucrania': 'Ukraine', 'Polonia': 'Poland', 'Portugal': 'Portugal', 'Rumania': 'Romania', 'Trinidad y Tobago': 'Trinidad and Tobago', 'Afganistán': 'Afghanistan', 'Pakistán': 'Pakistan', 'Vietnam': 'Vietnam', 'Malasia': 'Malaysia', 'Finlandia': 'Finland', 'Rusia': 'Russia', 'Irlanda': 'Ireland', 'Noruega': 'Norway', 'Eslovaquia': 'Slovakia', 'Bélgica': 'Belgium', 'Bolivia': 'Bolivia', 'Chile': 'Chile', 'Jamaica': 'Jamaica', 'Yemen': 'Yemen', 'Ghana': 'Ghana', 'Guinea': 'Guinea', 'Etiopía': 'Ethiopia', 'Bulgaria': 'Bulgaria', 'Kirguistán': 'Kyrgyzstan', 'Georgia': 'Georgia', 'Nepal': 'Nepal', 'Emiratos Árabes Unidos': 'United Arab Emirates', 'Camboya': 'Cambodia', 'Uganda': 'Uganda', 'Lesoto': 'Lesotho', 'Lituania': 'Lithuania', 'Suiza': 'Switzerland', 'Hungría': 'Hungary', 'Dinamarca': 'Denmark', 'Haití': 'Haiti', 'Bielorrusia': 'Belarus', 'Croacia': 'Croatia', 'Laos': 'Laos', 'Baréin': 'Bahrain', 'Macedonia': 'Macedonia', 'República Checa': 'Czech Republic', 'Sri Lanka': 'Sri Lanka', 'Zimbabue': 'Zimbabwe', 'Eritrea': 'Eritrea', 'Burkina Faso': 'Burkina Faso', 'Costa Rica': 'Costa Rica', 'Libia': 'Libya', 'Barbados': 'Barbados', 'Tayikistán': 'Tajikistan', 'Siria': 'Syria', 'Guadalupe': 'Guadeloupe', 'Papúa Nueva Guinea': 'Papua New Guinea', 'Azerbaiyán': 'Azerbaijan', 'Turkmenistán': 'Turkmenistan', 'Paraguay': 'Paraguay', 'Jordania': 'Jordan', 'Hong Kong': 'Hong Kong', 'Martinica': 'Martinique', 'Moldavia': 'Moldova', 'Qatar': 'Qatar', 'Mali': 'Mali', 'Albania': 'Albania', 'República del Congo': 'Republic of the Congo', 'Bosnia y Herzegovina': 'Bosnia and Herzegovina', 'Omán': 'Oman', 'Túnez': 'Tunisia', 'Sierra Leona': 'Sierra Leone', 'Yibuti': 'Djibouti', 'Burundi': 'Burundi', 'Montenegro': 'Montenegro', 'Gabón': 'Gabon', 'Sudán del Sur': 'South Sudan', 'Luxemburgo': 'Luxembourg', 'Namibia': 'Namibia', 'Mauritania': 'Mauritania', 'Grecia': 'Greece', 'Suazilandia': 'Swaziland', 'Guyana': 'Guyana', 'Guayana Francesa': 'French Guiana', 'República Centroafricana': 'Central African Republic', 'Taiwán': 'Taiwan', 'Estonia': 'Estonia', 'Líbano': 'Lebanon', 'Chipre': 'Cyprus', 'Guinea-Bissau': 'Guinea-Bissau', 'Surinam': 'Suriname', 'Belice': 'Belize', 'Eslovenia': 'Slovenia', 'República de Gambia': 'Republic of The Gambia', 'Botsuana': 'Botswana', 'Armenia': 'Armenia', 'Guinea Ecuatorial': 'Equatorial Guinea', 'Kuwait': 'Kuwait', 'Bután': 'Bhutan', 'Chad': 'Chad', 'Serbia': 'Serbia', 'Sáhara Occidental': 'Western Sahara'}\n"
          ]
        }
      ],
      "source": [
        "countries_dict = {}\n",
        "for i in range(len(countries_esp)):\n",
        "    countries_dict[countries_esp[i]] = countries_en[i]\n",
        "\n",
        "print(countries_dict)"
      ]
    },
    {
      "cell_type": "code",
      "execution_count": 10,
      "metadata": {
        "id": "o_UFR4mwoTmU"
      },
      "outputs": [],
      "source": [
        "df['Order Country'] = df['Order Country'].map(countries_dict)"
      ]
    },
    {
      "cell_type": "code",
      "execution_count": 11,
      "metadata": {
        "id": "157FibQ4qmMp"
      },
      "outputs": [],
      "source": [
        "df['Customer Country'] = df['Customer Country'].map(countries_dict)"
      ]
    },
    {
      "cell_type": "code",
      "execution_count": 12,
      "metadata": {},
      "outputs": [
        {
          "data": {
            "text/plain": [
              "United States        24840\n",
              "France               13222\n",
              "Mexico               13172\n",
              "Germany               9564\n",
              "Australia             8497\n",
              "                     ...  \n",
              "Equatorial Guinea        2\n",
              "Kuwait                   2\n",
              "Western Sahara           2\n",
              "Burundi                  1\n",
              "Serbia                   1\n",
              "Name: Order Country, Length: 164, dtype: int64"
            ]
          },
          "execution_count": 12,
          "metadata": {},
          "output_type": "execute_result"
        }
      ],
      "source": [
        "df['Order Country'].value_counts()"
      ]
    },
    {
      "attachments": {},
      "cell_type": "markdown",
      "metadata": {},
      "source": [
        "## Explore Dataset"
      ]
    },
    {
      "cell_type": "code",
      "execution_count": 32,
      "metadata": {},
      "outputs": [
        {
          "data": {
            "image/png": "[encoded data removed]",
            "text/plain": [
              "<Figure size 640x480 with 1 Axes>"
            ]
          },
          "metadata": {},
          "output_type": "display_data"
        }
      ],
      "source": [
        "#Percentage of customers segments\n",
        "segment_counts = df.groupby('Customer Segment')['Customer Id'].count()\n",
        "\n",
        "# plot a pie chart\n",
        "plt.pie(segment_counts, labels=segment_counts.index, autopct='%1.1f%%')\n",
        "plt.style.use('ggplot')\n",
        "plt.title('Percentage of Customer Segments')\n",
        "plt.show()"
      ]
    },
    {
      "cell_type": "code",
      "execution_count": null,
      "metadata": {},
      "outputs": [],
      "source": []
    },
    {
      "cell_type": "markdown",
      "metadata": {
        "id": "yydRhjWMiPhE"
      },
      "source": [
        "# Phase 2: Data Analysis\n",
        "In this phase, the data will be analyzed to identify patterns and trends. Statistical techniques will be used to identify areas of improvement in the supply chain management process. Key performance indicators (KPIs) will be identified to measure the success of the optimization process."
      ]
    },
    {
      "attachments": {},
      "cell_type": "markdown",
      "metadata": {},
      "source": [
        "1. Cost-to-serve analysis: You can calculate the cost of serving different customers or regions by analyzing the 'Sales' and 'Order Profit Per Order' columns. These columns can help you identify areas where costs can be minimized, such as by reducing shipping times or optimizing transportation routes."
      ]
    },
    {
      "cell_type": "code",
      "execution_count": null,
      "metadata": {
        "colab": {
          "base_uri": "https://localhost:8080/"
        },
        "id": "Ag8koz7oiP_f",
        "outputId": "c52ba1ef-29fa-41b3-a467-e774d842b6fd"
      },
      "outputs": [
        {
          "name": "stdout",
          "output_type": "stream",
          "text": [
            "          Country  Sales (in million dollars)\n",
            "0   United States                    4.879668\n",
            "1          France                    2.879942\n",
            "2          Mexico                    2.633195\n",
            "3         Germany                    2.074172\n",
            "4       Australia                    1.694622\n",
            "5  United Kingdom                    1.612095\n",
            "6          Brazil                    1.594320\n",
            "7           China                    1.172902\n",
            "8           Italy                    1.072182\n",
            "9           India                    0.962397\n"
          ]
        }
      ],
      "source": [
        "# group the sales by country and sum the sales for each country\n",
        "sales_by_country = df.groupby('Order Country')['Sales'].sum()\n",
        "\n",
        "# sort the countries by sales in descending order and select the top 10\n",
        "top_10_countries = sales_by_country.sort_values(ascending=False).head(10)\n",
        "\n",
        "# create a new dataframe with the top 10 countries and their sales in million dollars\n",
        "top_10_df = pd.DataFrame({'Country': top_10_countries.index, 'Sales (in million dollars)': top_10_countries.values / 1000000})\n",
        "\n",
        "print(top_10_df)"
      ]
    },
    {
      "attachments": {},
      "cell_type": "markdown",
      "metadata": {},
      "source": [
        "ORDER STATUS DEFINITION\n",
        "\n",
        "COMPLETE: The order has been processed successfully and delivered to the customer.\n",
        "\n",
        "PENDING: The order is waiting to be processed.\n",
        "\n",
        "CLOSED: The order has been closed, which usually means that it has been returned, cancelled or completed and no further action is required.\n",
        "\n",
        "PENDING_PAYMENT: The order is waiting for payment to be processed.\n",
        "\n",
        "CANCELED: The order has been cancelled and will not be processed further.\n",
        "\n",
        "PROCESSING: The order is being processed and prepared for shipment.\n",
        "\n",
        "SUSPECTED_FRAUD: The order is suspected to be fraudulent and requires further verification.\n",
        "\n",
        "ON_HOLD: The order has been placed on hold and is not currently being processed.\n",
        "\n",
        "PAYMENT_REVIEW: The order is under review for payment verification."
      ]
    },
    {
      "cell_type": "code",
      "execution_count": 63,
      "metadata": {},
      "outputs": [
        {
          "data": {
            "image/png": "[encoded data removed]",
            "text/plain": [
              "<Figure size 640x480 with 1 Axes>"
            ]
          },
          "metadata": {},
          "output_type": "display_data"
        }
      ],
      "source": [
        "import matplotlib.pyplot as plt\n",
        "\n",
        "plt.hist(df['Sales'], bins=50)\n",
        "plt.xlabel('Sales')\n",
        "plt.ylabel('Frequency')\n",
        "plt.show()\n"
      ]
    },
    {
      "cell_type": "code",
      "execution_count": 67,
      "metadata": {},
      "outputs": [
        {
          "data": {
            "text/html": [
              "<div>\n",
              "<style scoped>\n",
              "    .dataframe tbody tr th:only-of-type {\n",
              "        vertical-align: middle;\n",
              "    }\n",
              "\n",
              "    .dataframe tbody tr th {\n",
              "        vertical-align: top;\n",
              "    }\n",
              "\n",
              "    .dataframe thead th {\n",
              "        text-align: right;\n",
              "    }\n",
              "</style>\n",
              "<table border=\"1\" class=\"dataframe\">\n",
              "  <thead>\n",
              "    <tr style=\"text-align: right;\">\n",
              "      <th></th>\n",
              "      <th>order date (DateOrders)</th>\n",
              "      <th>shipping date (DateOrders)</th>\n",
              "    </tr>\n",
              "  </thead>\n",
              "  <tbody>\n",
              "    <tr>\n",
              "      <th>0</th>\n",
              "      <td>2018-01-31 22:56:00</td>\n",
              "      <td>2018-02-03 22:56:00</td>\n",
              "    </tr>\n",
              "    <tr>\n",
              "      <th>1</th>\n",
              "      <td>2018-01-13 12:27:00</td>\n",
              "      <td>2018-01-18 12:27:00</td>\n",
              "    </tr>\n",
              "    <tr>\n",
              "      <th>2</th>\n",
              "      <td>2018-01-13 12:06:00</td>\n",
              "      <td>2018-01-17 12:06:00</td>\n",
              "    </tr>\n",
              "    <tr>\n",
              "      <th>3</th>\n",
              "      <td>2018-01-13 11:45:00</td>\n",
              "      <td>2018-01-16 11:45:00</td>\n",
              "    </tr>\n",
              "    <tr>\n",
              "      <th>4</th>\n",
              "      <td>2018-01-13 11:24:00</td>\n",
              "      <td>2018-01-15 11:24:00</td>\n",
              "    </tr>\n",
              "    <tr>\n",
              "      <th>...</th>\n",
              "      <td>...</td>\n",
              "      <td>...</td>\n",
              "    </tr>\n",
              "    <tr>\n",
              "      <th>180514</th>\n",
              "      <td>2016-01-16 03:40:00</td>\n",
              "      <td>2016-01-20 03:40:00</td>\n",
              "    </tr>\n",
              "    <tr>\n",
              "      <th>180515</th>\n",
              "      <td>2016-01-16 01:34:00</td>\n",
              "      <td>2016-01-19 01:34:00</td>\n",
              "    </tr>\n",
              "    <tr>\n",
              "      <th>180516</th>\n",
              "      <td>2016-01-15 21:00:00</td>\n",
              "      <td>2016-01-20 21:00:00</td>\n",
              "    </tr>\n",
              "    <tr>\n",
              "      <th>180517</th>\n",
              "      <td>2016-01-15 20:18:00</td>\n",
              "      <td>2016-01-18 20:18:00</td>\n",
              "    </tr>\n",
              "    <tr>\n",
              "      <th>180518</th>\n",
              "      <td>2016-01-15 18:54:00</td>\n",
              "      <td>2016-01-19 18:54:00</td>\n",
              "    </tr>\n",
              "  </tbody>\n",
              "</table>\n",
              "<p>180519 rows × 2 columns</p>\n",
              "</div>"
            ],
            "text/plain": [
              "       order date (DateOrders) shipping date (DateOrders)\n",
              "0          2018-01-31 22:56:00        2018-02-03 22:56:00\n",
              "1          2018-01-13 12:27:00        2018-01-18 12:27:00\n",
              "2          2018-01-13 12:06:00        2018-01-17 12:06:00\n",
              "3          2018-01-13 11:45:00        2018-01-16 11:45:00\n",
              "4          2018-01-13 11:24:00        2018-01-15 11:24:00\n",
              "...                        ...                        ...\n",
              "180514     2016-01-16 03:40:00        2016-01-20 03:40:00\n",
              "180515     2016-01-16 01:34:00        2016-01-19 01:34:00\n",
              "180516     2016-01-15 21:00:00        2016-01-20 21:00:00\n",
              "180517     2016-01-15 20:18:00        2016-01-18 20:18:00\n",
              "180518     2016-01-15 18:54:00        2016-01-19 18:54:00\n",
              "\n",
              "[180519 rows x 2 columns]"
            ]
          },
          "execution_count": 67,
          "metadata": {},
          "output_type": "execute_result"
        }
      ],
      "source": [
        "df[['order date (DateOrders)', 'shipping date (DateOrders)' ]]"
      ]
    },
    {
      "cell_type": "code",
      "execution_count": 34,
      "metadata": {},
      "outputs": [
        {
          "name": "stdout",
          "output_type": "stream",
          "text": [
            "Total number of unique orders: 65752\n",
            "COMPLETE           59491\n",
            "PENDING_PAYMENT    39832\n",
            "PROCESSING         21902\n",
            "PENDING            20227\n",
            "CLOSED             19616\n",
            "ON_HOLD             9804\n",
            "SUSPECTED_FRAUD     4062\n",
            "CANCELED            3692\n",
            "PAYMENT_REVIEW      1893\n",
            "Name: Order Status, dtype: int64\n"
          ]
        }
      ],
      "source": [
        "#Find total unique order\n",
        "total_unique_orders = df['Order Id'].nunique()\n",
        "print(\"Total number of unique orders:\", total_unique_orders)\n",
        "\n",
        "\n",
        "\n",
        "#Find Order status\n",
        "order_status = df['Order Status'].value_counts()\n",
        "print(order_status)\n",
        "\n"
      ]
    },
    {
      "cell_type": "code",
      "execution_count": 32,
      "metadata": {},
      "outputs": [
        {
          "name": "stdout",
          "output_type": "stream",
          "text": [
            "Number of orders with positive benefit: 145558\n",
            "Number of orders with negative benefit: 33784\n",
            "Total benefit from positive orders: $7850450.32\n",
            "Total benefit lost from negative orders: $3883547.35\n"
          ]
        },
        {
          "data": {
            "image/png": "[encoded data removed]",
            "text/plain": [
              "<Figure size 640x480 with 1 Axes>"
            ]
          },
          "metadata": {},
          "output_type": "display_data"
        }
      ],
      "source": [
        "# create a distribution plot for Benefit per Order\n",
        "sns.histplot(df['Benefit per order'], kde=True)\n",
        "plt.xlim(-500, 500)\n",
        "plt.xlabel('Benefit per Order')\n",
        "plt.ylabel('Count')\n",
        "plt.title('Distribution of Benefit per Order')\n",
        "\n",
        "# count the number of orders with positive and negative benefits\n",
        "num_pos_benefit = len(df[df['Benefit per order'] > 0])\n",
        "num_neg_benefit = len(df[df['Benefit per order'] < 0])\n",
        "\n",
        "# calculate the total benefit for positive and negative orders\n",
        "total_pos_benefit = df[df['Benefit per order'] > 0]['Benefit per order'].sum()\n",
        "total_neg_benefit = df[df['Benefit per order'] < 0]['Benefit per order'].sum()\n",
        "\n",
        "# print the results\n",
        "print(f'Number of orders with positive benefit: {num_pos_benefit}')\n",
        "print(f'Number of orders with negative benefit: {num_neg_benefit}')\n",
        "print(f'Total benefit from positive orders: ${total_pos_benefit:.2f}')\n",
        "print(f'Total benefit lost from negative orders: ${-total_neg_benefit:.2f}')"
      ]
    },
    {
      "cell_type": "code",
      "execution_count": 24,
      "metadata": {},
      "outputs": [
        {
          "name": "stdout",
          "output_type": "stream",
          "text": [
            "Total negative benefit: $ -3883547.35\n"
          ]
        }
      ],
      "source": [
        "# Filter the dataset to only include orders with negative benefit\n",
        "negative_benefit_df = df[df['Benefit per order'] < 0]\n",
        "\n",
        "# Calculate the total negative benefit\n",
        "total_negative_benefit = negative_benefit_df['Benefit per order'].sum()\n",
        "\n",
        "print('Total negative benefit: $', round(total_negative_benefit, 2))"
      ]
    },
    {
      "cell_type": "code",
      "execution_count": null,
      "metadata": {
        "colab": {
          "base_uri": "https://localhost:8080/",
          "height": 300
        },
        "id": "M8724FF4lDG_",
        "outputId": "193e70dd-314c-40df-e984-e31028213052"
      },
      "outputs": [
        {
          "data": {
            "text/html": [
              "\n",
              "  <div id=\"df-3964db86-ac7b-47c7-99e8-75a2b3d19222\">\n",
              "    <div class=\"colab-df-container\">\n",
              "      <div>\n",
              "<style scoped>\n",
              "    .dataframe tbody tr th:only-of-type {\n",
              "        vertical-align: middle;\n",
              "    }\n",
              "\n",
              "    .dataframe tbody tr th {\n",
              "        vertical-align: top;\n",
              "    }\n",
              "\n",
              "    .dataframe thead th {\n",
              "        text-align: right;\n",
              "    }\n",
              "</style>\n",
              "<table border=\"1\" class=\"dataframe\">\n",
              "  <thead>\n",
              "    <tr style=\"text-align: right;\">\n",
              "      <th></th>\n",
              "      <th>Sales</th>\n",
              "      <th>Order Profit Per Order</th>\n",
              "      <th>Benefit per order</th>\n",
              "    </tr>\n",
              "  </thead>\n",
              "  <tbody>\n",
              "    <tr>\n",
              "      <th>count</th>\n",
              "      <td>180519.000000</td>\n",
              "      <td>180519.000000</td>\n",
              "      <td>180519.000000</td>\n",
              "    </tr>\n",
              "    <tr>\n",
              "      <th>mean</th>\n",
              "      <td>203.772096</td>\n",
              "      <td>21.974989</td>\n",
              "      <td>21.974989</td>\n",
              "    </tr>\n",
              "    <tr>\n",
              "      <th>std</th>\n",
              "      <td>132.273077</td>\n",
              "      <td>104.433526</td>\n",
              "      <td>104.433526</td>\n",
              "    </tr>\n",
              "    <tr>\n",
              "      <th>min</th>\n",
              "      <td>9.990000</td>\n",
              "      <td>-4274.979980</td>\n",
              "      <td>-4274.979980</td>\n",
              "    </tr>\n",
              "    <tr>\n",
              "      <th>25%</th>\n",
              "      <td>119.980003</td>\n",
              "      <td>7.000000</td>\n",
              "      <td>7.000000</td>\n",
              "    </tr>\n",
              "    <tr>\n",
              "      <th>50%</th>\n",
              "      <td>199.919998</td>\n",
              "      <td>31.520000</td>\n",
              "      <td>31.520000</td>\n",
              "    </tr>\n",
              "    <tr>\n",
              "      <th>75%</th>\n",
              "      <td>299.950012</td>\n",
              "      <td>64.800003</td>\n",
              "      <td>64.800003</td>\n",
              "    </tr>\n",
              "    <tr>\n",
              "      <th>max</th>\n",
              "      <td>1999.989990</td>\n",
              "      <td>911.799988</td>\n",
              "      <td>911.799988</td>\n",
              "    </tr>\n",
              "  </tbody>\n",
              "</table>\n",
              "</div>\n",
              "      <button class=\"colab-df-convert\" onclick=\"convertToInteractive('df-3964db86-ac7b-47c7-99e8-75a2b3d19222')\"\n",
              "              title=\"Convert this dataframe to an interactive table.\"\n",
              "              style=\"display:none;\">\n",
              "        \n",
              "  <svg xmlns=\"http://www.w3.org/2000/svg\" height=\"24px\"viewBox=\"0 0 24 24\"\n",
              "       width=\"24px\">\n",
              "    <path d=\"M0 0h24v24H0V0z\" fill=\"none\"/>\n",
              "    <path d=\"M18.56 5.44l.94 2.06.94-2.06 2.06-.94-2.06-.94-.94-2.06-.94 2.06-2.06.94zm-11 1L8.5 8.5l.94-2.06 2.06-.94-2.06-.94L8.5 2.5l-.94 2.06-2.06.94zm10 10l.94 2.06.94-2.06 2.06-.94-2.06-.94-.94-2.06-.94 2.06-2.06.94z\"/><path d=\"M17.41 7.96l-1.37-1.37c-.4-.4-.92-.59-1.43-.59-.52 0-1.04.2-1.43.59L10.3 9.45l-7.72 7.72c-.78.78-.78 2.05 0 2.83L4 21.41c.39.39.9.59 1.41.59.51 0 1.02-.2 1.41-.59l7.78-7.78 2.81-2.81c.8-.78.8-2.07 0-2.86zM5.41 20L4 18.59l7.72-7.72 1.47 1.35L5.41 20z\"/>\n",
              "  </svg>\n",
              "      </button>\n",
              "      \n",
              "  <style>\n",
              "    .colab-df-container {\n",
              "      display:flex;\n",
              "      flex-wrap:wrap;\n",
              "      gap: 12px;\n",
              "    }\n",
              "\n",
              "    .colab-df-convert {\n",
              "      background-color: #E8F0FE;\n",
              "      border: none;\n",
              "      border-radius: 50%;\n",
              "      cursor: pointer;\n",
              "      display: none;\n",
              "      fill: #1967D2;\n",
              "      height: 32px;\n",
              "      padding: 0 0 0 0;\n",
              "      width: 32px;\n",
              "    }\n",
              "\n",
              "    .colab-df-convert:hover {\n",
              "      background-color: #E2EBFA;\n",
              "      box-shadow: 0px 1px 2px rgba(60, 64, 67, 0.3), 0px 1px 3px 1px rgba(60, 64, 67, 0.15);\n",
              "      fill: #174EA6;\n",
              "    }\n",
              "\n",
              "    [theme=dark] .colab-df-convert {\n",
              "      background-color: #3B4455;\n",
              "      fill: #D2E3FC;\n",
              "    }\n",
              "\n",
              "    [theme=dark] .colab-df-convert:hover {\n",
              "      background-color: #434B5C;\n",
              "      box-shadow: 0px 1px 3px 1px rgba(0, 0, 0, 0.15);\n",
              "      filter: drop-shadow(0px 1px 2px rgba(0, 0, 0, 0.3));\n",
              "      fill: #FFFFFF;\n",
              "    }\n",
              "  </style>\n",
              "\n",
              "      <script>\n",
              "        const buttonEl =\n",
              "          document.querySelector('#df-3964db86-ac7b-47c7-99e8-75a2b3d19222 button.colab-df-convert');\n",
              "        buttonEl.style.display =\n",
              "          google.colab.kernel.accessAllowed ? 'block' : 'none';\n",
              "\n",
              "        async function convertToInteractive(key) {\n",
              "          const element = document.querySelector('#df-3964db86-ac7b-47c7-99e8-75a2b3d19222');\n",
              "          const dataTable =\n",
              "            await google.colab.kernel.invokeFunction('convertToInteractive',\n",
              "                                                     [key], {});\n",
              "          if (!dataTable) return;\n",
              "\n",
              "          const docLinkHtml = 'Like what you see? Visit the ' +\n",
              "            '<a target=\"_blank\" href=https://colab.research.google.com/notebooks/data_table.ipynb>data table notebook</a>'\n",
              "            + ' to learn more about interactive tables.';\n",
              "          element.innerHTML = '';\n",
              "          dataTable['output_type'] = 'display_data';\n",
              "          await google.colab.output.renderOutput(dataTable, element);\n",
              "          const docLink = document.createElement('div');\n",
              "          docLink.innerHTML = docLinkHtml;\n",
              "          element.appendChild(docLink);\n",
              "        }\n",
              "      </script>\n",
              "    </div>\n",
              "  </div>\n",
              "  "
            ],
            "text/plain": [
              "               Sales  Order Profit Per Order  Benefit per order\n",
              "count  180519.000000           180519.000000      180519.000000\n",
              "mean      203.772096               21.974989          21.974989\n",
              "std       132.273077              104.433526         104.433526\n",
              "min         9.990000            -4274.979980       -4274.979980\n",
              "25%       119.980003                7.000000           7.000000\n",
              "50%       199.919998               31.520000          31.520000\n",
              "75%       299.950012               64.800003          64.800003\n",
              "max      1999.989990              911.799988         911.799988"
            ]
          },
          "execution_count": 18,
          "metadata": {},
          "output_type": "execute_result"
        }
      ],
      "source": [
        "df[['Sales', 'Order Profit Per Order', 'Benefit per order']].describe()"
      ]
    },
    {
      "cell_type": "code",
      "execution_count": 23,
      "metadata": {},
      "outputs": [
        {
          "name": "stdout",
          "output_type": "stream",
          "text": [
            "Percentage of negative benefit per order: 18.71%\n"
          ]
        }
      ],
      "source": [
        "# Count the number of negative values in \"Benefit per order\"\n",
        "negative_benefit = df[df[\"Benefit per order\"] < 0].shape[0]\n",
        "\n",
        "# Calculate the percentage of negative benefit per order\n",
        "percentage_negative_benefit = (negative_benefit / len(df)) * 100\n",
        "\n",
        "print(f\"Percentage of negative benefit per order: {percentage_negative_benefit:.2f}%\")\n"
      ]
    },
    {
      "cell_type": "code",
      "execution_count": 22,
      "metadata": {
        "id": "qVu6KX8MoE6g"
      },
      "outputs": [
        {
          "data": {
            "image/png": "[encoded data removed]",
            "text/plain": [
              "<Figure size 640x480 with 1 Axes>"
            ]
          },
          "metadata": {},
          "output_type": "display_data"
        },
        {
          "data": {
            "image/png": "[encoded data removed]",
            "text/plain": [
              "<Figure size 640x480 with 1 Axes>"
            ]
          },
          "metadata": {},
          "output_type": "display_data"
        }
      ],
      "source": [
        "# plot histogram for \"Benefit per order\"\n",
        "plt.xlim(-500, 500)\n",
        "plt.hist(df['Benefit per order'], bins=100)\n",
        "plt.xlabel('Benefit per order')\n",
        "plt.ylabel('Frequency')\n",
        "plt.title('Distribution of Benefit per order')\n",
        "plt.show()\n",
        "\n",
        "# plot histogram for \"Sales per customer\"\n",
        "plt.xlim(0, 750)\n",
        "plt.hist(df['Sales per customer'], bins=100)\n",
        "plt.xlabel('Sales per customer')\n",
        "plt.ylabel('Frequency')\n",
        "plt.title('Distribution of Sales per customer')\n",
        "plt.show()"
      ]
    },
    {
      "cell_type": "code",
      "execution_count": null,
      "metadata": {},
      "outputs": [],
      "source": []
    }
  ],
  "metadata": {
    "colab": {
      "authorship_tag": "ABX9TyM4MPZPK73cIOo+0It79zhW",
      "include_colab_link": true,
      "mount_file_id": "1dtXoxJUWOLQ8JSISdckMo0E-oSDLJ-Ld",
      "provenance": []
    },
    "kernelspec": {
      "display_name": "Python 3",
      "language": "python",
      "name": "python3"
    },
    "language_info": {
      "codemirror_mode": {
        "name": "ipython",
        "version": 3
      },
      "file_extension": ".py",
      "mimetype": "text/x-python",
      "name": "python",
      "nbconvert_exporter": "python",
      "pygments_lexer": "ipython3",
      "version": "3.10.6"
    },
    "vscode": {
      "interpreter": {
        "hash": "916dbcbb3f70747c44a77c7bcd40155683ae19c65e1c03b4aa3499c5328201f1"
      }
    }
  },
  "nbformat": 4,
  "nbformat_minor": 0
}
